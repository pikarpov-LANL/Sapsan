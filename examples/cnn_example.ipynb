{
 "cells": [
  {
   "cell_type": "code",
   "execution_count": 1,
   "metadata": {
    "pycharm": {
     "is_executing": false
    }
   },
   "outputs": [],
   "source": [
    "import os\n",
    "import sys\n",
    "\n",
    "sys.path.append(\"../\")\n"
   ]
  },
  {
   "cell_type": "code",
   "execution_count": 2,
   "outputs": [],
   "source": [
    "from sapsan.lib.backends.fake import FakeExperimentBackend\n",
    "from sapsan.lib.backends.mlflow import MlFlowExperimentBackend\n",
    "from sapsan.lib.data.jhtdb_dataset import JHTDB128Dataset\n",
    "from sapsan.lib.data import Equidistance3dSampling\n",
    "from sapsan.lib.estimator import Spacial3dEncoderNetworkEstimator, Spacial3dEncoderNetworkEstimatorConfiguration\n",
    "from sapsan.lib.experiments.evaluation_3d import Evaluation3dExperiment\n",
    "from sapsan.lib.experiments.training import TrainingExperiment\n"
   ],
   "metadata": {
    "collapsed": false,
    "pycharm": {
     "name": "#%%\n",
     "is_executing": false
    }
   }
  },
  {
   "cell_type": "code",
   "execution_count": 5,
   "outputs": [],
   "source": [
    "os.environ[\"AWS_ACCESS_KEY_ID\"] = \"<AWS_ACCESS_KEY_ID>\"\n",
    "os.environ[\"AWS_SECRET_ACCESS_KEY\"] = \"<AWS_SECRET_ACCESS_KEY>\"\n",
    "\n",
    "def run():\n",
    "    MLFLOW_BACKEND_HOST = \"mlflow\"\n",
    "    MLFLOW_BACKEND_PORT = 9000\n",
    "    dataset_root_dir = \"./data/u_dim32_fm15.h5\"\n",
    "    CHECKPOINT_DATA_SIZE = 32\n",
    "    SAMPLE_TO = 16\n",
    "    GRID_SIZE = 8\n",
    "    features = ['u']\n",
    "    labels = ['tn']\n",
    "\n",
    "    sampler = Equidistance3dSampling(CHECKPOINT_DATA_SIZE, SAMPLE_TO)\n",
    "\n",
    "    experiment_name = \"CNN experiment\"\n",
    "\n",
    "    estimator = Spacial3dEncoderNetworkEstimator(\n",
    "        config=Spacial3dEncoderNetworkEstimatorConfiguration(n_epochs=1, grid_dim=GRID_SIZE)\n",
    "    )\n",
    "\n",
    "    tracking_backend = FakeExperimentBackend(experiment_name)\n",
    "    # tracking_backend = MlFlowExperimentBackend(experiment_name, MLFLOW_BACKEND_HOST, MLFLOW_BACKEND_PORT)\n",
    "\n",
    "    x, y = JHTDB128Dataset(path=dataset_root_dir,\n",
    "                           features=features,\n",
    "                           target=labels,\n",
    "                           checkpoints=[0, 4, 10],\n",
    "                           grid_size=GRID_SIZE,\n",
    "                           checkpoint_data_size=CHECKPOINT_DATA_SIZE,\n",
    "                           sampler=sampler).load()\n",
    "\n",
    "    training_experiment = TrainingExperiment(name=experiment_name,\n",
    "                                             backend=tracking_backend,\n",
    "                                             model=estimator,\n",
    "                                             inputs=x, targets=y)\n",
    "    training_experiment.run()\n",
    "\n",
    "    x, y = JHTDB128Dataset(path=dataset_root_dir,\n",
    "                           features=features,\n",
    "                           target=labels,\n",
    "                           checkpoints=[0],\n",
    "                           grid_size=GRID_SIZE,\n",
    "                           checkpoint_data_size=CHECKPOINT_DATA_SIZE,\n",
    "                           sampler=sampler).load()\n",
    "\n",
    "    evaluation_experiment = Evaluation3dExperiment(name=experiment_name,\n",
    "                                                   backend=tracking_backend,\n",
    "                                                   model=training_experiment.model,\n",
    "                                                   inputs=x, targets=y,\n",
    "                                                   grid_size=GRID_SIZE,\n",
    "                                                   checkpoint_data_size=SAMPLE_TO)\n",
    "\n",
    "    evaluation_experiment.run()\n"
   ],
   "metadata": {
    "collapsed": false,
    "pycharm": {
     "name": "#%%\n",
     "is_executing": false
    }
   }
  },
  {
   "cell_type": "code",
   "execution_count": 6,
   "outputs": [
    {
     "data": {
      "text/plain": "<IPython.core.display.Javascript object>",
      "application/javascript": "IPython.notebook.save_checkpoint();"
     },
     "metadata": {},
     "output_type": "display_data"
    },
    {
     "name": "stdout",
     "text": [
      "[2020-04-27 19:38:42,826] \n",
      "1/1 * Epoch 1 (train): _base/lr=0.0010 | _base/momentum=0.9000 | _timers/_fps=1126.8932 | _timers/batch_time=0.0100 | _timers/data_time=0.0075 | _timers/model_time=0.0024 | loss=0.0110\n",
      "1/1 * Epoch 1 (valid): _base/lr=0.0010 | _base/momentum=0.9000 | _timers/_fps=1067.6761 | _timers/batch_time=0.0128 | _timers/data_time=0.0102 | _timers/model_time=0.0025 | loss=0.0099\n",
      "Top best models:\n",
      "logs/checkpoints/train.1.pth\t0.0099\n"
     ],
     "output_type": "stream"
    },
    {
     "name": "stderr",
     "text": [
      "INFO:metrics_logger:\n",
      "1/1 * Epoch 1 (train): _base/lr=0.0010 | _base/momentum=0.9000 | _timers/_fps=1126.8932 | _timers/batch_time=0.0100 | _timers/data_time=0.0075 | _timers/model_time=0.0024 | loss=0.0110\n",
      "1/1 * Epoch 1 (valid): _base/lr=0.0010 | _base/momentum=0.9000 | _timers/_fps=1067.6761 | _timers/batch_time=0.0128 | _timers/data_time=0.0102 | _timers/model_time=0.0025 | loss=0.0099\n",
      "/Users/icekhan/Documents/development/myprojects/sapsan/repo/Sapsan/sapsan/utils/plot.py:23: MatplotlibDeprecationWarning:\n",
      "\n",
      "\n",
      "The 'normed' kwarg was deprecated in Matplotlib 2.1 and will be removed in 3.1. Use 'density' instead.\n",
      "\n",
      "WARNING:root:could not broadcast input array from shape (8,1536) into shape (8)\n",
      "WARNING:root:Feature was not provided. First one will be used\n",
      "WARNING:root:Slice is not selected first one will be used\n",
      "WARNING:root:Feature was not provided. First one will be used\n",
      "WARNING:root:Slice is not selected first one will be used\n"
     ],
     "output_type": "stream"
    },
    {
     "data": {
      "text/plain": "<Figure size 432x432 with 1 Axes>",
      "image/png": "[encoded data removed]"
     },
     "metadata": {
      "needs_background": "light"
     },
     "output_type": "display_data"
    },
    {
     "data": {
      "text/plain": "<Figure size 432x432 with 0 Axes>"
     },
     "metadata": {},
     "output_type": "display_data"
    },
    {
     "data": {
      "text/plain": "<Figure size 1152x432 with 4 Axes>",
      "image/png": "[encoded data removed]"
     },
     "metadata": {
      "needs_background": "light"
     },
     "output_type": "display_data"
    }
   ],
   "source": [
    "run()"
   ],
   "metadata": {
    "collapsed": false,
    "pycharm": {
     "name": "#%%\n",
     "is_executing": false
    }
   }
  },
  {
   "cell_type": "code",
   "execution_count": null,
   "outputs": [],
   "source": [
    "\n"
   ],
   "metadata": {
    "collapsed": false,
    "pycharm": {
     "name": "#%%\n"
    }
   }
  }
 ],
 "metadata": {
  "kernelspec": {
   "display_name": "Python 3",
   "language": "python",
   "name": "python3"
  },
  "language_info": {
   "codemirror_mode": {
    "name": "ipython",
    "version": 3
   },
   "file_extension": ".py",
   "mimetype": "text/x-python",
   "name": "python",
   "nbconvert_exporter": "python",
   "pygments_lexer": "ipython3",
   "version": "3.7.3"
  },
  "pycharm": {
   "stem_cell": {
    "cell_type": "raw",
    "source": [],
    "metadata": {
     "collapsed": false
    }
   }
  }
 },
 "nbformat": 4,
 "nbformat_minor": 2
}