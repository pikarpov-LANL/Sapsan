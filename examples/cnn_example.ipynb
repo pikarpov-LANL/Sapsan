{
 "cells": [
  {
   "cell_type": "code",
   "execution_count": null,
   "metadata": {
    "pycharm": {
     "is_executing": false
    }
   },
   "outputs": [],
   "source": [
    "%matplotlib inline\n",
    "import os\n",
    "import sys\n",
    "\n",
    "sys.path.append(\"../\")"
   ]
  },
  {
   "cell_type": "code",
   "execution_count": null,
   "metadata": {
    "pycharm": {
     "is_executing": false,
     "name": "#%%\n"
    }
   },
   "outputs": [],
   "source": [
    "from sapsan.lib.backends.fake import FakeExperimentBackend\n",
    "from sapsan.lib.backends.mlflow import MlFlowExperimentBackend\n",
    "from sapsan.lib.data.jhtdb_dataset import JHTDB128Dataset\n",
    "from sapsan.lib.data import Equidistance3dSampling\n",
    "from sapsan.lib.estimator import Spacial3dEncoderNetworkEstimator, Spacial3dEncoderNetworkEstimatorConfiguration\n",
    "from sapsan.lib.experiments.evaluation_3d import Evaluation3dExperiment\n",
    "from sapsan.lib.experiments.training import TrainingExperiment"
   ]
  },
  {
   "cell_type": "code",
   "execution_count": null,
   "metadata": {
    "pycharm": {
     "is_executing": false,
     "name": "#%%\n"
    }
   },
   "outputs": [],
   "source": [
    "os.environ[\"AWS_ACCESS_KEY_ID\"] = \"<AWS_ACCESS_KEY_ID>\"\n",
    "os.environ[\"AWS_SECRET_ACCESS_KEY\"] = \"<AWS_SECRET_ACCESS_KEY>\"\n",
    "\n",
    "def run():\n",
    "    MLFLOW_BACKEND_HOST = \"mlflow\"\n",
    "    MLFLOW_BACKEND_PORT = 9000\n",
    "    path = \"data/{feature}_dim32_fm15.h5\"\n",
    "    CHECKPOINT_DATA_SIZE = 32\n",
    "    SAMPLE_TO = 16\n",
    "    GRID_SIZE = 8\n",
    "    features = ['u']\n",
    "    target = ['u']\n",
    "\n",
    "    sampler = Equidistance3dSampling(CHECKPOINT_DATA_SIZE, SAMPLE_TO)\n",
    "\n",
    "    experiment_name = \"CNN experiment\"\n",
    "\n",
    "    estimator = Spacial3dEncoderNetworkEstimator(\n",
    "        config=Spacial3dEncoderNetworkEstimatorConfiguration(n_epochs=1, grid_dim=GRID_SIZE)\n",
    "    )\n",
    "\n",
    "    tracking_backend = FakeExperimentBackend(experiment_name)\n",
    "    # tracking_backend = MlFlowExperimentBackend(experiment_name, MLFLOW_BACKEND_HOST, MLFLOW_BACKEND_PORT)\n",
    "    \n",
    "    x, y = JHTDB128Dataset(path=path,\n",
    "                           features=features,\n",
    "                           target=target,\n",
    "                           checkpoints=[0],\n",
    "                           grid_size=GRID_SIZE,\n",
    "                           checkpoint_data_size=CHECKPOINT_DATA_SIZE,\n",
    "                           sampler=sampler).load()\n",
    "\n",
    "    training_experiment = TrainingExperiment(name=experiment_name,\n",
    "                                             backend=tracking_backend,\n",
    "                                             model=estimator,\n",
    "                                             inputs=x, targets=y)\n",
    "    training_experiment.run()\n",
    "\n",
    "    x, y = JHTDB128Dataset(path=path,\n",
    "                           features=features,\n",
    "                           target=target,\n",
    "                           checkpoints=[0],\n",
    "                           grid_size=GRID_SIZE,\n",
    "                           checkpoint_data_size=CHECKPOINT_DATA_SIZE,\n",
    "                           sampler=sampler).load()\n",
    "\n",
    "    evaluation_experiment = Evaluation3dExperiment(name=experiment_name,\n",
    "                                                   backend=tracking_backend,\n",
    "                                                   model=training_experiment.model,\n",
    "                                                   inputs=x, targets=y,\n",
    "                                                   grid_size=GRID_SIZE,\n",
    "                                                   checkpoint_data_size=SAMPLE_TO)\n",
    "\n",
    "    evaluation_experiment.run()"
   ]
  },
  {
   "cell_type": "code",
   "execution_count": null,
   "metadata": {
    "pycharm": {
     "is_executing": false,
     "name": "#%%\n"
    }
   },
   "outputs": [],
   "source": [
    "run()"
   ]
  }
 ],
 "metadata": {
  "kernelspec": {
   "display_name": "Python 3",
   "language": "python",
   "name": "python3"
  },
  "language_info": {
   "codemirror_mode": {
    "name": "ipython",
    "version": 3
   },
   "file_extension": ".py",
   "mimetype": "text/x-python",
   "name": "python",
   "nbconvert_exporter": "python",
   "pygments_lexer": "ipython3",
   "version": "3.7.3"
  },
  "pycharm": {
   "stem_cell": {
    "cell_type": "raw",
    "source": [],
    "metadata": {
     "collapsed": false
    }
   }
  }
 },
 "nbformat": 4,
 "nbformat_minor": 2
}