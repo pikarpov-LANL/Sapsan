{
 "cells": [
  {
   "cell_type": "code",
   "execution_count": 1,
   "metadata": {},
   "outputs": [],
   "source": [
    "from typing import Optional\n",
    "import kfp\n",
    "import kfp.dsl as dsl\n",
    "import kfp.compiler as compiler\n",
    "import numpy as np"
   ]
  },
  {
   "cell_type": "code",
   "execution_count": 2,
   "metadata": {},
   "outputs": [],
   "source": [
    "username = \"icekhan\"\n",
    "version = \"latest\""
   ]
  },
  {
   "cell_type": "code",
   "execution_count": 3,
   "metadata": {},
   "outputs": [],
   "source": [
    "def experiment_op(experiment_name: str,\n",
    "\t\t\t\t  checkpoint_data_size: int,\n",
    "\t\t\t\t  sample_to: int,\n",
    "\t\t\t\t  grid_size: int,\n",
    "\t\t\t\t  n_epochs: int,\n",
    "\t\t\t\t  dataset_root_dir: str,\n",
    "\t\t\t\t  mlflow_backend_host: Optional[str],\n",
    "\t\t\t\t  mlflow_backend_port: Optional[str]):\n",
    "\t\n",
    "    return dsl.ContainerOp(\n",
    "        name=\"experiment-operator\",\n",
    "        image=f\"{username}/sapsan_cnn_encoder_experiment:{version}\",\n",
    "        arguments=[\n",
    "\t\t\t\"--experiment_name\", experiment_name,\n",
    "\t\t\t\"--checkpoint_data_size\", checkpoint_data_size,\n",
    "\t\t\t\"--sample_to\", sample_to,\n",
    "\t\t\t\"--grid_size\", grid_size,\n",
    "\t\t\t\"--n_epochs\", n_epochs,\n",
    "\t\t\t\"--dataset_root_dir\", dataset_root_dir,\n",
    "\t\t\t\"--mlflow_backend_host\", mlflow_backend_host,\n",
    "\t\t\t\"--mlflow_backend_port\", mlflow_backend_port\n",
    "\t\t]\n",
    "    )\n"
   ]
  },
  {
   "cell_type": "code",
   "execution_count": 4,
   "metadata": {},
   "outputs": [],
   "source": [
    "@dsl.pipeline(name=\"CNN encoder\", description=\"Sapsan CNN encoder experiment\")\n",
    "def pipeline_definition(experiment_name: str = 'CNN encoder experiment',\n",
    "\t\t\t\t\t\tcheckpoint_data_size: int = 128,\n",
    "\t\t\t\t\t\tsample_to: int = 32,\n",
    "\t\t\t\t\t\tgrid_size: int = 8,\n",
    "\t\t\t\t\t\tn_epochs: int = 1,\n",
    "\t\t\t\t\t\tdataset_root_dir: str = '/app/dataset/',\n",
    "\t\t\t\t\t\tmlflow_backend_host: Optional[str] = None,\n",
    "\t\t\t\t\t\tmlflow_backend_port: Optional[str] = None):\n",
    "\t\n",
    "    experiment_op(experiment_name=experiment_name,\n",
    "\t\t\t\t  dataset_root_dir=dataset_root_dir,\n",
    "\t\t\t\t  checkpoint_data_size=checkpoint_data_size,\n",
    "\t\t\t\t  sample_to=sample_to,\n",
    "\t\t\t\t  grid_size=grid_size,\n",
    "\t\t\t\t  n_epochs=n_epochs,\n",
    "\t\t\t\t  mlflow_backend_host=mlflow_backend_host,\n",
    "\t\t\t\t  mlflow_backend_port=mlflow_backend_port)"
   ]
  },
  {
   "cell_type": "code",
   "execution_count": 5,
   "metadata": {},
   "outputs": [],
   "source": [
    "compiler.Compiler().compile(pipeline_definition, \"pipeline.tar.gz\")\n"
   ]
  },
  {
   "cell_type": "code",
   "execution_count": 6,
   "metadata": {},
   "outputs": [
    {
     "name": "stdout",
     "output_type": "stream",
     "text": [
      "Failed to load kube config.\n"
     ]
    }
   ],
   "source": [
    "client = kfp.Client()"
   ]
  },
  {
   "cell_type": "code",
   "execution_count": null,
   "outputs": [],
   "source": [
    "%%bash\n",
    "tar -xvf pipeline.tar.gz\n"
   ],
   "metadata": {
    "collapsed": false,
    "pycharm": {
     "name": "#%%\n"
    }
   }
  },
  {
   "cell_type": "code",
   "execution_count": null,
   "metadata": {},
   "outputs": [],
   "source": [
    "run_name = f\"Run number {np.random.randint(0, 10000)}\"\n",
    "experiment_name='Sapsan experiment'\n",
    "# get or create an experiment_id\n",
    "try:\n",
    "    experiment_id = client.get_experiment(experiment_name=experiment_name).id\n",
    "except:\n",
    "    experiment_id = client.create_experiment(experiment_name).id\n",
    "experiment_id"
   ]
  },
  {
   "cell_type": "code",
   "execution_count": null,
   "metadata": {},
   "outputs": [],
   "source": [
    "print(\"Starting a new run with the name {}\".format(run_name))\n",
    "result = client.run_pipeline(\n",
    "    experiment_id, run_name, \"pipeline.yaml\",\n",
    "    {\n",
    "        \"n_epochs\": 1,\n",
    "    }\n",
    ")"
   ]
  }
 ],
 "metadata": {
  "kernelspec": {
   "display_name": "Python 3",
   "language": "python",
   "name": "python3"
  },
  "language_info": {
   "codemirror_mode": {
    "name": "ipython",
    "version": 3
   },
   "file_extension": ".py",
   "mimetype": "text/x-python",
   "name": "python",
   "nbconvert_exporter": "python",
   "pygments_lexer": "ipython3",
   "version": "3.7.5"
  },
  "pycharm": {
   "stem_cell": {
    "cell_type": "raw",
    "source": [],
    "metadata": {
     "collapsed": false
    }
   }
  }
 },
 "nbformat": 4,
 "nbformat_minor": 2
}