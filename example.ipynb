{
 "cells": [
  {
   "cell_type": "code",
   "execution_count": 1,
   "metadata": {
    "collapsed": true,
    "pycharm": {
     "is_executing": false
    }
   },
   "outputs": [],
   "source": [
    "from sapsan.general.data.jhtdb_dataset import JHTDB128Dataset\n",
    "from sapsan.general.estimator.cnn.spacial_3d_encoder import Spacial3dEncoderNetworkEstimator, Spacial3dEncoderNetworkEstimatorConfiguration\n",
    "from sapsan.general.experiment import TrainingExperiment, EvaluationExperiment, FakeExperimentBackend"
   ]
  },
  {
   "cell_type": "code",
   "execution_count": 2,
   "outputs": [],
   "source": [
    "dataset_root_dir = \"/Users/icekhan/Documents/development/myprojects/sapsan/repo/Sapsan/dataset\"\n",
    "GRID_SIZE = 32"
   ],
   "metadata": {
    "collapsed": false,
    "pycharm": {
     "name": "#%%\n",
     "is_executing": false
    }
   }
  },
  {
   "cell_type": "code",
   "execution_count": 3,
   "outputs": [
    {
     "data": {
      "text/plain": "<IPython.core.display.Javascript object>",
      "application/javascript": "IPython.notebook.save_checkpoint();"
     },
     "metadata": {},
     "output_type": "display_data"
    },
    {
     "name": "stdout",
     "text": [
      "[2020-02-12 00:01:12,389] \n",
      "1/1 * Epoch 1 (train): _base/lr=0.0010 | _base/momentum=0.9000 | _timers/_fps=68.7866 | _timers/batch_time=0.0899 | _timers/data_time=0.0278 | _timers/model_time=0.0620 | loss=0.0045\n",
      "1/1 * Epoch 1 (valid): _base/lr=0.0010 | _base/momentum=0.9000 | _timers/_fps=78.7578 | _timers/batch_time=0.0563 | _timers/data_time=0.0071 | _timers/model_time=0.0491 | loss=0.0028\n",
      "Top best models:\n",
      "logs/checkpoints/train.1.pth\t0.0028\n"
     ],
     "output_type": "stream"
    },
    {
     "data": {
      "text/plain": "{'runtime': 6.408781051635742}"
     },
     "metadata": {},
     "output_type": "execute_result",
     "execution_count": 3
    }
   ],
   "source": [
    "training_experiment_name = \"Training experiment\"\n",
    "estimator = Spacial3dEncoderNetworkEstimator(\n",
    "    config=Spacial3dEncoderNetworkEstimatorConfiguration(n_epochs=1, grid_dim=GRID_SIZE)\n",
    ")\n",
    "x, y = JHTDB128Dataset(path=dataset_root_dir,\n",
    "                       features=['u', 'b', 'a',\n",
    "                                'du0', 'du1', 'du2',\n",
    "                                'db0', 'db1', 'db2',\n",
    "                                'da0', 'da1', 'da2'],\n",
    "                       labels=['tn'],\n",
    "                       checkpoints=[0.0],\n",
    "\t\t\t\t\t   grid_size=GRID_SIZE).load()\n",
    "\n",
    "training_experiment = TrainingExperiment(name=training_experiment_name,\n",
    "                                backend=FakeExperimentBackend(training_experiment_name),\n",
    "                                model=estimator,\n",
    "                                inputs=x, targets=y)\n",
    "training_experiment.run()"
   ],
   "metadata": {
    "collapsed": false,
    "pycharm": {
     "name": "#%%\n",
     "is_executing": false
    }
   }
  },
  {
   "cell_type": "code",
   "execution_count": 4,
   "outputs": [
    {
     "name": "stderr",
     "text": [
      "/Users/icekhan/Documents/development/myprojects/sapsan/repo/Sapsan/sapsan/utils/plot.py:20: MatplotlibDeprecationWarning:\n",
      "\n",
      "\n",
      "The 'normed' kwarg was deprecated in Matplotlib 2.1 and will be removed in 3.1. Use 'density' instead.\n",
      "\n",
      "WARNING:root:Feature was not provided. First one will be used\n",
      "WARNING:root:Slice is not selected first one will be used\n",
      "WARNING:root:Feature was not provided. First one will be used\n",
      "WARNING:root:Slice is not selected first one will be used\n"
     ],
     "output_type": "stream"
    },
    {
     "data": {
      "text/plain": "<Figure size 432x288 with 1 Axes>",
      "image/png": "[encoded data removed]"
     },
     "metadata": {
      "needs_background": "light"
     },
     "output_type": "display_data"
    },
    {
     "data": {
      "text/plain": "<Figure size 432x288 with 1 Axes>",
      "image/png": "[encoded data removed]"
     },
     "metadata": {
      "needs_background": "light"
     },
     "output_type": "display_data"
    },
    {
     "data": {
      "text/plain": "<Figure size 432x288 with 1 Axes>",
      "image/png": "[encoded data removed]"
     },
     "metadata": {
      "needs_background": "light"
     },
     "output_type": "display_data"
    },
    {
     "data": {
      "text/plain": "{'runtime': 2.038707971572876}"
     },
     "metadata": {},
     "output_type": "execute_result",
     "execution_count": 4
    }
   ],
   "source": [
    "x, y = JHTDB128Dataset(path=dataset_root_dir,\n",
    "                       features=['u', 'b', 'a',\n",
    "                                'du0', 'du1', 'du2',\n",
    "                                'db0', 'db1', 'db2',\n",
    "                                'da0', 'da1', 'da2'],\n",
    "                       labels=['tn'],\n",
    "                       checkpoints=[0.01],\n",
    "\t\t\t\t\t   grid_size=GRID_SIZE).load()\n",
    "\n",
    "model = Spacial3dEncoderNetworkEstimator(\n",
    "    config=Spacial3dEncoderNetworkEstimatorConfiguration(n_epochs=1)\n",
    ")\n",
    "\n",
    "\n",
    "evaluation_experiment_name = \"Evaluation experiment\"\n",
    "evaluation_experiment = EvaluationExperiment(name=evaluation_experiment_name,\n",
    "\t\t\t\t\t\t\t\t\t\t\t backend=FakeExperimentBackend(evaluation_experiment_name),\n",
    "\t\t\t\t\t\t\t\t\t\t\t model=training_experiment.model,\n",
    "\t\t\t\t\t\t\t\t\t\t\t inputs=x, targets=y,\n",
    "\t\t\t\t\t\t\t\t\t\t\t n_output_channels=3,\n",
    "\t\t\t\t\t\t\t\t\t\t\t grid_size=GRID_SIZE)\n",
    "\n",
    "evaluation_experiment.run()\n"
   ],
   "metadata": {
    "collapsed": false,
    "pycharm": {
     "name": "#%%\n",
     "is_executing": false
    }
   }
  }
 ],
 "metadata": {
  "kernelspec": {
   "display_name": "Python 3",
   "language": "python",
   "name": "python3"
  },
  "language_info": {
   "codemirror_mode": {
    "name": "ipython",
    "version": 2
   },
   "file_extension": ".py",
   "mimetype": "text/x-python",
   "name": "python",
   "nbconvert_exporter": "python",
   "pygments_lexer": "ipython2",
   "version": "2.7.6"
  },
  "pycharm": {
   "stem_cell": {
    "cell_type": "raw",
    "source": [],
    "metadata": {
     "collapsed": false
    }
   }
  }
 },
 "nbformat": 4,
 "nbformat_minor": 0
}