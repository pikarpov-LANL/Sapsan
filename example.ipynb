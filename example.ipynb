{
 "cells": [
  {
   "cell_type": "code",
   "execution_count": null,
   "outputs": [],
   "source": [
    "from sapsan.general.data.jhtdb_dataset import JHTDB128Dataset, Equidistance3dSampling\n",
    "from sapsan.general.estimator.cnn.spacial_3d_encoder import Spacial3dEncoderNetworkEstimator, Spacial3dEncoderNetworkEstimatorConfiguration\n",
    "from sapsan.general.experiment import TrainingExperiment, EvaluationExperiment, FakeExperimentBackend"
   ],
   "metadata": {
    "collapsed": false,
    "pycharm": {
     "name": "#%%\n",
     "is_executing": false
    }
   }
  },
  {
   "cell_type": "code",
   "execution_count": null,
   "outputs": [],
   "source": [
    "dataset_root_dir = \"/Users/icekhan/Documents/development/myprojects/sapsan/repo/Sapsan/dataset\"\n",
    "CHECKPOINT_DATA_SIZE = 128\n",
    "SAMPLE_TO = 32\n",
    "GRID_SIZE = 16\n",
    "features = ['u', 'b', 'a',\n",
    "            'du0', 'du1', 'du2',\n",
    "            'db0', 'db1', 'db2',\n",
    "            'da0', 'da1', 'da2']\n",
    "labels = ['tn']\n",
    "\n",
    "sampler = Equidistance3dSampling(CHECKPOINT_DATA_SIZE, SAMPLE_TO)"
   ],
   "metadata": {
    "collapsed": false,
    "pycharm": {
     "name": "#%%\n",
     "is_executing": false
    }
   }
  },
  {
   "cell_type": "code",
   "execution_count": 8,
   "outputs": [
    {
     "data": {
      "text/plain": "<IPython.core.display.Javascript object>",
      "application/javascript": "IPython.notebook.save_checkpoint();"
     },
     "metadata": {},
     "output_type": "display_data"
    },
    {
     "name": "stdout",
     "text": [
      "[2020-02-13 18:09:48,864] \n",
      "1/1 * Epoch 1 (train): _base/lr=0.0010 | _base/momentum=0.9000 | _timers/_fps=83.6836 | _timers/batch_time=0.0478 | _timers/data_time=0.0344 | _timers/model_time=0.0132 | loss=0.0054\n",
      "1/1 * Epoch 1 (valid): _base/lr=0.0010 | _base/momentum=0.9000 | _timers/_fps=85.5618 | _timers/batch_time=0.0467 | _timers/data_time=0.0311 | _timers/model_time=0.0153 | loss=0.0044\n",
      "Top best models:\n",
      "logs/checkpoints/train.1.pth\t0.0044\n"
     ],
     "output_type": "stream"
    },
    {
     "name": "stderr",
     "text": [
      "INFO:metrics_logger:\n",
      "1/1 * Epoch 1 (train): _base/lr=0.0010 | _base/momentum=0.9000 | _timers/_fps=83.6836 | _timers/batch_time=0.0478 | _timers/data_time=0.0344 | _timers/model_time=0.0132 | loss=0.0054\n",
      "1/1 * Epoch 1 (valid): _base/lr=0.0010 | _base/momentum=0.9000 | _timers/_fps=85.5618 | _timers/batch_time=0.0467 | _timers/data_time=0.0311 | _timers/model_time=0.0153 | loss=0.0044\n"
     ],
     "output_type": "stream"
    },
    {
     "data": {
      "text/plain": "{'runtime': 1.5165631771087646}"
     },
     "metadata": {},
     "output_type": "execute_result",
     "execution_count": 8
    }
   ],
   "source": [
    "training_experiment_name = \"Training experiment\"\n",
    "estimator = Spacial3dEncoderNetworkEstimator(\n",
    "    config=Spacial3dEncoderNetworkEstimatorConfiguration(n_epochs=1, grid_dim=GRID_SIZE)\n",
    ")\n",
    "x, y = JHTDB128Dataset(path=dataset_root_dir,\n",
    "                       features=features,\n",
    "                       labels=labels,\n",
    "                       checkpoints=[0.0],\n",
    "\t\t\t\t\t   grid_size=GRID_SIZE,\n",
    "\t\t\t\t\t   checkpoint_data_size=CHECKPOINT_DATA_SIZE,\n",
    "\t\t\t\t\t   sampler=sampler).load()\n",
    "\n",
    "training_experiment = TrainingExperiment(name=training_experiment_name,\n",
    "                                backend=FakeExperimentBackend(training_experiment_name),\n",
    "                                model=estimator,\n",
    "                                inputs=x, targets=y)\n",
    "training_experiment.run()"
   ],
   "metadata": {
    "collapsed": false,
    "pycharm": {
     "name": "#%%\n",
     "is_executing": false
    }
   }
  },
  {
   "cell_type": "code",
   "execution_count": 9,
   "outputs": [
    {
     "data": {
      "text/plain": "<Figure size 432x288 with 1 Axes>",
      "image/png": "[encoded data removed]"
     },
     "metadata": {
      "needs_background": "light"
     },
     "output_type": "display_data"
    },
    {
     "name": "stderr",
     "text": [
      "WARNING:root:Feature was not provided. First one will be used\n",
      "WARNING:root:Slice is not selected first one will be used\n",
      "WARNING:root:Feature was not provided. First one will be used\n",
      "WARNING:root:Slice is not selected first one will be used\n"
     ],
     "output_type": "stream"
    },
    {
     "data": {
      "text/plain": "<Figure size 432x288 with 1 Axes>",
      "image/png": "[encoded data removed]"
     },
     "metadata": {
      "needs_background": "light"
     },
     "output_type": "display_data"
    },
    {
     "data": {
      "text/plain": "<Figure size 432x288 with 1 Axes>",
      "image/png": "[encoded data removed]"
     },
     "metadata": {
      "needs_background": "light"
     },
     "output_type": "display_data"
    },
    {
     "data": {
      "text/plain": "{'runtime': 0.8245611190795898}"
     },
     "metadata": {},
     "output_type": "execute_result",
     "execution_count": 9
    }
   ],
   "source": [
    "x, y = JHTDB128Dataset(path=dataset_root_dir,\n",
    "                       features=features,\n",
    "                       labels=labels,\n",
    "                       checkpoints=[0.01],\n",
    "\t\t\t\t\t   grid_size=GRID_SIZE,\n",
    "\t\t\t\t\t   checkpoint_data_size=CHECKPOINT_DATA_SIZE,\n",
    "\t\t\t\t\t   sampler=sampler).load()\n",
    "\n",
    "model = Spacial3dEncoderNetworkEstimator(\n",
    "    config=Spacial3dEncoderNetworkEstimatorConfiguration(n_epochs=1)\n",
    ")\n",
    "\n",
    "\n",
    "evaluation_experiment_name = \"Evaluation experiment\"\n",
    "evaluation_experiment = EvaluationExperiment(name=evaluation_experiment_name,\n",
    "\t\t\t\t\t\t\t\t\t\t\t backend=FakeExperimentBackend(evaluation_experiment_name),\n",
    "\t\t\t\t\t\t\t\t\t\t\t model=training_experiment.model,\n",
    "\t\t\t\t\t\t\t\t\t\t\t inputs=x, targets=y,\n",
    "\t\t\t\t\t\t\t\t\t\t\t n_output_channels=3,\n",
    "\t\t\t\t\t\t\t\t\t\t\t grid_size=GRID_SIZE)\n",
    "\n",
    "evaluation_experiment.run()\n",
    "\n",
    "\n",
    "\n",
    "\n",
    "\n"
   ],
   "metadata": {
    "collapsed": false,
    "pycharm": {
     "name": "#%%\n",
     "is_executing": false
    }
   }
  }
 ],
 "metadata": {
  "kernelspec": {
   "display_name": "Python 3",
   "language": "python",
   "name": "python3"
  },
  "language_info": {
   "codemirror_mode": {
    "name": "ipython",
    "version": 2
   },
   "file_extension": ".py",
   "mimetype": "text/x-python",
   "name": "python",
   "nbconvert_exporter": "python",
   "pygments_lexer": "ipython2",
   "version": "2.7.6"
  },
  "pycharm": {
   "stem_cell": {
    "cell_type": "raw",
    "source": [],
    "metadata": {
     "collapsed": false
    }
   }
  }
 },
 "nbformat": 4,
 "nbformat_minor": 0
}