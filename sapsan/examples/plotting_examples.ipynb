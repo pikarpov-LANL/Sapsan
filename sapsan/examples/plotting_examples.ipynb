{
 "cells": [
  {
   "cell_type": "code",
   "execution_count": 1,
   "metadata": {},
   "outputs": [],
   "source": [
    "# Tutorial on the Sapsan's built-in plotting routines.\n",
    "# Depending on the routine, it can rely on matplotlib (mpl), \n",
    "# plotly (px) with pandas, or graphviz (gph). Matplotlib routines\n",
    "# have a custom parameters defined in plot_params(). The routines include:\n",
    "# \n",
    "#   1. line_plot   - familiar matplotlib line plotting (mpl)\n",
    "#   2. slice_plot  - 2D plots (mpl)\n",
    "#   3. pdf_plot    - probability density function (mpl)\n",
    "#   4. cdf_plot    - cumulative distribution function (mpl)\n",
    "#   5. log_plot    - training log plot (px)\n",
    "#   6. model_graph - visualizing ML model layer-by-layer by constructing a graph (gph)\n",
    "# \n",
    "# For all parameters of each routine check Spasan's API at sapsan-wiki.github.io\n",
    "\n",
    "import os\n",
    "import sys\n",
    "import numpy as np\n",
    "sys.path.append(\"../../\")"
   ]
  },
  {
   "cell_type": "code",
   "execution_count": 2,
   "metadata": {},
   "outputs": [
    {
     "name": "stdout",
     "output_type": "stream",
     "text": [
      "font.size             14\n",
      "legend.fontsize       14\n",
      "axes.labelsize        20\n",
      "axes.titlesize        24\n",
      "xtick.labelsize       17\n",
      "ytick.labelsize       17\n",
      "axes.linewidth        1\n",
      "patch.linewidth       3\n",
      "lines.linewidth       3\n",
      "xtick.major.width     1.5\n",
      "ytick.major.width     1.5\n",
      "xtick.minor.width     1.25\n",
      "ytick.minor.width     1.25\n",
      "xtick.major.size      7\n",
      "ytick.major.size      7\n",
      "xtick.minor.size      4\n",
      "ytick.minor.size      4\n",
      "xtick.direction       in\n",
      "ytick.direction       in\n",
      "axes.grid             True\n",
      "axes.formatter.limits [-7, 7]\n",
      "grid.linestyle        :\n",
      "grid.color            #999999\n",
      "text.usetex           False\n"
     ]
    }
   ],
   "source": [
    "# List of matplotlib parameters\n",
    "# Default style is 'tableau-colorblind10'\n",
    "\n",
    "from sapsan.utils.plot import plot_params\n",
    "\n",
    "for parameter, value in plot_params().items():\n",
    "    print(f'{parameter:21s} {value}')"
   ]
  },
  {
   "cell_type": "code",
   "execution_count": 3,
   "metadata": {},
   "outputs": [
    {
     "data": {
      "text/plain": [
       "Text(16.375000000000004, 0.5, 'f(x)')"
      ]
     },
     "execution_count": 3,
     "metadata": {},
     "output_type": "execute_result"
    },
    {
     "data": {
      "image/png": "[encoded data removed]",
      "text/plain": [
       "<Figure size 360x360 with 1 Axes>"
      ]
     },
     "metadata": {},
     "output_type": "display_data"
    }
   ],
   "source": [
    "from sapsan.utils.plot import line_plot\n",
    "\n",
    "# Simple line plots: we will plot two datasets [x,x2] and [x,x3]\n",
    "# It exists to maintime the same plotting formatting whgen using Sapsan\n",
    "x  = np.linspace(0,1,100)\n",
    "x2 = x**2\n",
    "x3 = np.sin(x)\n",
    "\n",
    "# all matplotlib routines return Axis object\n",
    "ax = line_plot(series    = [[x,x2],\n",
    "                            [x,x3]],\n",
    "               \n",
    "               # other matplotlib types included: plot, semilogx, semilogy, loglog\n",
    "               plot_type = 'semilogx',               \n",
    "               label     = ['x^2', 'sin(x)'],\n",
    "               linestyle = ['-', '--'])\n",
    "\n",
    "# You can alter almost all aspects of the plot through Axes\n",
    "# Let's add axis labels\n",
    "ax.set_xlabel('x')\n",
    "ax.set_ylabel('f(x)') "
   ]
  },
  {
   "cell_type": "code",
   "execution_count": 4,
   "metadata": {},
   "outputs": [
    {
     "name": "stdout",
     "output_type": "stream",
     "text": [
      "Features:  ['u']\n",
      "Fetures_label: ['None']\n",
      "Loading 'u00000' from file 'data/cnn_krr/t0/u_dim32_fm15.h5'\n",
      "----------\n",
      "Loading 'u00000' from file 'data/cnn_krr/t0/u_dim32_fm15.h5'\n",
      "----------\n",
      "(1, 3, 32, 32, 32) (1, 98304)\n"
     ]
    }
   ],
   "source": [
    "# Majority of the routines can be used with any data,\n",
    "# but for consistency, we will load the 3D cnn example data\n",
    "\n",
    "from sapsan.lib.data import HDF5Dataset, flatten\n",
    "\n",
    "data_loader = HDF5Dataset(path           = \"data/cnn_krr/t{checkpoint:1.0f}/{feature}_dim32_fm15.h5\",\n",
    "                          features       = ['u'],\n",
    "                          target         = ['u'],\n",
    "                          checkpoints    = [0],\n",
    "                          input_size     = [32,32,32],\n",
    "                          train_fraction = 1)\n",
    "\n",
    "x, y = data_loader.load_numpy()\n",
    "y    = flatten(y)\n",
    "\n",
    "# x constains 3 components if velocity 'u', 32^3 each\n",
    "print(x.shape, y.shape)"
   ]
  },
  {
   "cell_type": "code",
   "execution_count": 5,
   "metadata": {},
   "outputs": [
    {
     "data": {
      "image/png": "[encoded data removed]",
      "text/plain": [
       "<Figure size 720x360 with 4 Axes>"
      ]
     },
     "metadata": {},
     "output_type": "display_data"
    }
   ],
   "source": [
    "from sapsan.utils.plot import slice_plot\n",
    "\n",
    "# first 32x32 slice of ux and uy components\n",
    "ux = x[0,0,0]\n",
    "uy = x[0,1,0]\n",
    "\n",
    "# all matplotlib routines return Axis object\n",
    "ax = slice_plot(series = [ux, uy],\n",
    "                label  = ['velocity_x', 'velocity_y'])\n",
    "\n",
    "# colormap ranges will be the same across multiple slices, based on the total min and max"
   ]
  },
  {
   "cell_type": "code",
   "execution_count": 6,
   "metadata": {},
   "outputs": [
    {
     "data": {
      "image/png": "[encoded data removed]",
      "text/plain": [
       "<Figure size 360x360 with 1 Axes>"
      ]
     },
     "metadata": {},
     "output_type": "display_data"
    },
    {
     "data": {
      "image/png": "[encoded data removed]",
      "text/plain": [
       "<Figure size 360x360 with 1 Axes>"
      ]
     },
     "metadata": {},
     "output_type": "display_data"
    }
   ],
   "source": [
    "from sapsan.utils.plot import pdf_plot, cdf_plot\n",
    "\n",
    "# Full 3D 32x32x32 slice of ux and uy components.\n",
    "# However, it will work just fine with any data \n",
    "# dimensionality since the input gets flattened.\n",
    "ux = x[0,0]\n",
    "uy = x[0,1]\n",
    "\n",
    "# Probability density function\n",
    "ax = pdf_plot(series = [ux, uy],\n",
    "              label  = ['velocity_x', 'velocity_y'])\n",
    "\n",
    "# Cumulative distribution function\n",
    "ax = cdf_plot(series = [ux, uy],\n",
    "              label  = ['velocity_x', 'velocity_y'])"
   ]
  },
  {
   "cell_type": "code",
   "execution_count": 21,
   "metadata": {},
   "outputs": [
    {
     "data": {
      "application/vnd.plotly.v1+json": {
       "config": {
        "plotlyServerURL": "https://plot.ly"
       },
       "data": [
        {
         "hovertemplate": "variable=train_loss<br>epoch=%{x}<br>value=%{y}<extra></extra>",
         "legendgroup": "train_loss",
         "line": {
          "color": "#636efa",
          "dash": "solid"
         },
         "marker": {
          "symbol": "circle"
         },
         "mode": "lines",
         "name": "train_loss",
         "orientation": "v",
         "showlegend": true,
         "type": "scatter",
         "x": [
          1,
          2,
          3,
          4,
          5
         ],
         "xaxis": "x",
         "y": [
          178.3000030517578,
          14.300000190734863,
          12.0600004196167,
          11.869999885559082,
          10.90999984741211
         ],
         "yaxis": "y"
        },
        {
         "hovertemplate": "variable=valid_loss<br>epoch=%{x}<br>value=%{y}<extra></extra>",
         "legendgroup": "valid_loss",
         "line": {
          "color": "#EF553B",
          "dash": "solid"
         },
         "marker": {
          "symbol": "circle"
         },
         "mode": "lines",
         "name": "valid_loss",
         "orientation": "v",
         "showlegend": true,
         "type": "scatter",
         "x": [
          1,
          2,
          3,
          4,
          5
         ],
         "xaxis": "x",
         "y": [
          172.39999389648438,
          7.824999809265137,
          11.729999542236328,
          8.484999656677246,
          7.611999988555908
         ],
         "yaxis": "y"
        }
       ],
       "layout": {
        "height": 400,
        "hovermode": "x",
        "legend": {
         "title": {
          "text": "variable"
         },
         "tracegroupgap": 0
        },
        "template": {
         "data": {
          "bar": [
           {
            "error_x": {
             "color": "#2a3f5f"
            },
            "error_y": {
             "color": "#2a3f5f"
            },
            "marker": {
             "line": {
              "color": "#E5ECF6",
              "width": 0.5
             },
             "pattern": {
              "fillmode": "overlay",
              "size": 10,
              "solidity": 0.2
             }
            },
            "type": "bar"
           }
          ],
          "barpolar": [
           {
            "marker": {
             "line": {
              "color": "#E5ECF6",
              "width": 0.5
             },
             "pattern": {
              "fillmode": "overlay",
              "size": 10,
              "solidity": 0.2
             }
            },
            "type": "barpolar"
           }
          ],
          "carpet": [
           {
            "aaxis": {
             "endlinecolor": "#2a3f5f",
             "gridcolor": "white",
             "linecolor": "white",
             "minorgridcolor": "white",
             "startlinecolor": "#2a3f5f"
            },
            "baxis": {
             "endlinecolor": "#2a3f5f",
             "gridcolor": "white",
             "linecolor": "white",
             "minorgridcolor": "white",
             "startlinecolor": "#2a3f5f"
            },
            "type": "carpet"
           }
          ],
          "choropleth": [
           {
            "colorbar": {
             "outlinewidth": 0,
             "ticks": ""
            },
            "type": "choropleth"
           }
          ],
          "contour": [
           {
            "colorbar": {
             "outlinewidth": 0,
             "ticks": ""
            },
            "colorscale": [
             [
              0,
              "#0d0887"
             ],
             [
              0.1111111111111111,
              "#46039f"
             ],
             [
              0.2222222222222222,
              "#7201a8"
             ],
             [
              0.3333333333333333,
              "#9c179e"
             ],
             [
              0.4444444444444444,
              "#bd3786"
             ],
             [
              0.5555555555555556,
              "#d8576b"
             ],
             [
              0.6666666666666666,
              "#ed7953"
             ],
             [
              0.7777777777777778,
              "#fb9f3a"
             ],
             [
              0.8888888888888888,
              "#fdca26"
             ],
             [
              1,
              "#f0f921"
             ]
            ],
            "type": "contour"
           }
          ],
          "contourcarpet": [
           {
            "colorbar": {
             "outlinewidth": 0,
             "ticks": ""
            },
            "type": "contourcarpet"
           }
          ],
          "heatmap": [
           {
            "colorbar": {
             "outlinewidth": 0,
             "ticks": ""
            },
            "colorscale": [
             [
              0,
              "#0d0887"
             ],
             [
              0.1111111111111111,
              "#46039f"
             ],
             [
              0.2222222222222222,
              "#7201a8"
             ],
             [
              0.3333333333333333,
              "#9c179e"
             ],
             [
              0.4444444444444444,
              "#bd3786"
             ],
             [
              0.5555555555555556,
              "#d8576b"
             ],
             [
              0.6666666666666666,
              "#ed7953"
             ],
             [
              0.7777777777777778,
              "#fb9f3a"
             ],
             [
              0.8888888888888888,
              "#fdca26"
             ],
             [
              1,
              "#f0f921"
             ]
            ],
            "type": "heatmap"
           }
          ],
          "heatmapgl": [
           {
            "colorbar": {
             "outlinewidth": 0,
             "ticks": ""
            },
            "colorscale": [
             [
              0,
              "#0d0887"
             ],
             [
              0.1111111111111111,
              "#46039f"
             ],
             [
              0.2222222222222222,
              "#7201a8"
             ],
             [
              0.3333333333333333,
              "#9c179e"
             ],
             [
              0.4444444444444444,
              "#bd3786"
             ],
             [
              0.5555555555555556,
              "#d8576b"
             ],
             [
              0.6666666666666666,
              "#ed7953"
             ],
             [
              0.7777777777777778,
              "#fb9f3a"
             ],
             [
              0.8888888888888888,
              "#fdca26"
             ],
             [
              1,
              "#f0f921"
             ]
            ],
            "type": "heatmapgl"
           }
          ],
          "histogram": [
           {
            "marker": {
             "pattern": {
              "fillmode": "overlay",
              "size": 10,
              "solidity": 0.2
             }
            },
            "type": "histogram"
           }
          ],
          "histogram2d": [
           {
            "colorbar": {
             "outlinewidth": 0,
             "ticks": ""
            },
            "colorscale": [
             [
              0,
              "#0d0887"
             ],
             [
              0.1111111111111111,
              "#46039f"
             ],
             [
              0.2222222222222222,
              "#7201a8"
             ],
             [
              0.3333333333333333,
              "#9c179e"
             ],
             [
              0.4444444444444444,
              "#bd3786"
             ],
             [
              0.5555555555555556,
              "#d8576b"
             ],
             [
              0.6666666666666666,
              "#ed7953"
             ],
             [
              0.7777777777777778,
              "#fb9f3a"
             ],
             [
              0.8888888888888888,
              "#fdca26"
             ],
             [
              1,
              "#f0f921"
             ]
            ],
            "type": "histogram2d"
           }
          ],
          "histogram2dcontour": [
           {
            "colorbar": {
             "outlinewidth": 0,
             "ticks": ""
            },
            "colorscale": [
             [
              0,
              "#0d0887"
             ],
             [
              0.1111111111111111,
              "#46039f"
             ],
             [
              0.2222222222222222,
              "#7201a8"
             ],
             [
              0.3333333333333333,
              "#9c179e"
             ],
             [
              0.4444444444444444,
              "#bd3786"
             ],
             [
              0.5555555555555556,
              "#d8576b"
             ],
             [
              0.6666666666666666,
              "#ed7953"
             ],
             [
              0.7777777777777778,
              "#fb9f3a"
             ],
             [
              0.8888888888888888,
              "#fdca26"
             ],
             [
              1,
              "#f0f921"
             ]
            ],
            "type": "histogram2dcontour"
           }
          ],
          "mesh3d": [
           {
            "colorbar": {
             "outlinewidth": 0,
             "ticks": ""
            },
            "type": "mesh3d"
           }
          ],
          "parcoords": [
           {
            "line": {
             "colorbar": {
              "outlinewidth": 0,
              "ticks": ""
             }
            },
            "type": "parcoords"
           }
          ],
          "pie": [
           {
            "automargin": true,
            "type": "pie"
           }
          ],
          "scatter": [
           {
            "fillpattern": {
             "fillmode": "overlay",
             "size": 10,
             "solidity": 0.2
            },
            "type": "scatter"
           }
          ],
          "scatter3d": [
           {
            "line": {
             "colorbar": {
              "outlinewidth": 0,
              "ticks": ""
             }
            },
            "marker": {
             "colorbar": {
              "outlinewidth": 0,
              "ticks": ""
             }
            },
            "type": "scatter3d"
           }
          ],
          "scattercarpet": [
           {
            "marker": {
             "colorbar": {
              "outlinewidth": 0,
              "ticks": ""
             }
            },
            "type": "scattercarpet"
           }
          ],
          "scattergeo": [
           {
            "marker": {
             "colorbar": {
              "outlinewidth": 0,
              "ticks": ""
             }
            },
            "type": "scattergeo"
           }
          ],
          "scattergl": [
           {
            "marker": {
             "colorbar": {
              "outlinewidth": 0,
              "ticks": ""
             }
            },
            "type": "scattergl"
           }
          ],
          "scattermapbox": [
           {
            "marker": {
             "colorbar": {
              "outlinewidth": 0,
              "ticks": ""
             }
            },
            "type": "scattermapbox"
           }
          ],
          "scatterpolar": [
           {
            "marker": {
             "colorbar": {
              "outlinewidth": 0,
              "ticks": ""
             }
            },
            "type": "scatterpolar"
           }
          ],
          "scatterpolargl": [
           {
            "marker": {
             "colorbar": {
              "outlinewidth": 0,
              "ticks": ""
             }
            },
            "type": "scatterpolargl"
           }
          ],
          "scatterternary": [
           {
            "marker": {
             "colorbar": {
              "outlinewidth": 0,
              "ticks": ""
             }
            },
            "type": "scatterternary"
           }
          ],
          "surface": [
           {
            "colorbar": {
             "outlinewidth": 0,
             "ticks": ""
            },
            "colorscale": [
             [
              0,
              "#0d0887"
             ],
             [
              0.1111111111111111,
              "#46039f"
             ],
             [
              0.2222222222222222,
              "#7201a8"
             ],
             [
              0.3333333333333333,
              "#9c179e"
             ],
             [
              0.4444444444444444,
              "#bd3786"
             ],
             [
              0.5555555555555556,
              "#d8576b"
             ],
             [
              0.6666666666666666,
              "#ed7953"
             ],
             [
              0.7777777777777778,
              "#fb9f3a"
             ],
             [
              0.8888888888888888,
              "#fdca26"
             ],
             [
              1,
              "#f0f921"
             ]
            ],
            "type": "surface"
           }
          ],
          "table": [
           {
            "cells": {
             "fill": {
              "color": "#EBF0F8"
             },
             "line": {
              "color": "white"
             }
            },
            "header": {
             "fill": {
              "color": "#C8D4E3"
             },
             "line": {
              "color": "white"
             }
            },
            "type": "table"
           }
          ]
         },
         "layout": {
          "annotationdefaults": {
           "arrowcolor": "#2a3f5f",
           "arrowhead": 0,
           "arrowwidth": 1
          },
          "autotypenumbers": "strict",
          "coloraxis": {
           "colorbar": {
            "outlinewidth": 0,
            "ticks": ""
           }
          },
          "colorscale": {
           "diverging": [
            [
             0,
             "#8e0152"
            ],
            [
             0.1,
             "#c51b7d"
            ],
            [
             0.2,
             "#de77ae"
            ],
            [
             0.3,
             "#f1b6da"
            ],
            [
             0.4,
             "#fde0ef"
            ],
            [
             0.5,
             "#f7f7f7"
            ],
            [
             0.6,
             "#e6f5d0"
            ],
            [
             0.7,
             "#b8e186"
            ],
            [
             0.8,
             "#7fbc41"
            ],
            [
             0.9,
             "#4d9221"
            ],
            [
             1,
             "#276419"
            ]
           ],
           "sequential": [
            [
             0,
             "#0d0887"
            ],
            [
             0.1111111111111111,
             "#46039f"
            ],
            [
             0.2222222222222222,
             "#7201a8"
            ],
            [
             0.3333333333333333,
             "#9c179e"
            ],
            [
             0.4444444444444444,
             "#bd3786"
            ],
            [
             0.5555555555555556,
             "#d8576b"
            ],
            [
             0.6666666666666666,
             "#ed7953"
            ],
            [
             0.7777777777777778,
             "#fb9f3a"
            ],
            [
             0.8888888888888888,
             "#fdca26"
            ],
            [
             1,
             "#f0f921"
            ]
           ],
           "sequentialminus": [
            [
             0,
             "#0d0887"
            ],
            [
             0.1111111111111111,
             "#46039f"
            ],
            [
             0.2222222222222222,
             "#7201a8"
            ],
            [
             0.3333333333333333,
             "#9c179e"
            ],
            [
             0.4444444444444444,
             "#bd3786"
            ],
            [
             0.5555555555555556,
             "#d8576b"
            ],
            [
             0.6666666666666666,
             "#ed7953"
            ],
            [
             0.7777777777777778,
             "#fb9f3a"
            ],
            [
             0.8888888888888888,
             "#fdca26"
            ],
            [
             1,
             "#f0f921"
            ]
           ]
          },
          "colorway": [
           "#636efa",
           "#EF553B",
           "#00cc96",
           "#ab63fa",
           "#FFA15A",
           "#19d3f3",
           "#FF6692",
           "#B6E880",
           "#FF97FF",
           "#FECB52"
          ],
          "font": {
           "color": "#2a3f5f"
          },
          "geo": {
           "bgcolor": "white",
           "lakecolor": "white",
           "landcolor": "#E5ECF6",
           "showlakes": true,
           "showland": true,
           "subunitcolor": "white"
          },
          "hoverlabel": {
           "align": "left"
          },
          "hovermode": "closest",
          "mapbox": {
           "style": "light"
          },
          "paper_bgcolor": "white",
          "plot_bgcolor": "#E5ECF6",
          "polar": {
           "angularaxis": {
            "gridcolor": "white",
            "linecolor": "white",
            "ticks": ""
           },
           "bgcolor": "#E5ECF6",
           "radialaxis": {
            "gridcolor": "white",
            "linecolor": "white",
            "ticks": ""
           }
          },
          "scene": {
           "xaxis": {
            "backgroundcolor": "#E5ECF6",
            "gridcolor": "white",
            "gridwidth": 2,
            "linecolor": "white",
            "showbackground": true,
            "ticks": "",
            "zerolinecolor": "white"
           },
           "yaxis": {
            "backgroundcolor": "#E5ECF6",
            "gridcolor": "white",
            "gridwidth": 2,
            "linecolor": "white",
            "showbackground": true,
            "ticks": "",
            "zerolinecolor": "white"
           },
           "zaxis": {
            "backgroundcolor": "#E5ECF6",
            "gridcolor": "white",
            "gridwidth": 2,
            "linecolor": "white",
            "showbackground": true,
            "ticks": "",
            "zerolinecolor": "white"
           }
          },
          "shapedefaults": {
           "line": {
            "color": "#2a3f5f"
           }
          },
          "ternary": {
           "aaxis": {
            "gridcolor": "white",
            "linecolor": "white",
            "ticks": ""
           },
           "baxis": {
            "gridcolor": "white",
            "linecolor": "white",
            "ticks": ""
           },
           "bgcolor": "#E5ECF6",
           "caxis": {
            "gridcolor": "white",
            "linecolor": "white",
            "ticks": ""
           }
          },
          "title": {
           "x": 0.05
          },
          "xaxis": {
           "automargin": true,
           "gridcolor": "white",
           "linecolor": "white",
           "ticks": "",
           "title": {
            "standoff": 15
           },
           "zerolinecolor": "white",
           "zerolinewidth": 2
          },
          "yaxis": {
           "automargin": true,
           "gridcolor": "white",
           "linecolor": "white",
           "ticks": "",
           "title": {
            "standoff": 15
           },
           "zerolinecolor": "white",
           "zerolinewidth": 2
          }
         }
        },
        "title": {
         "text": "Training Progress"
        },
        "width": 700,
        "xaxis": {
         "anchor": "y",
         "domain": [
          0,
          1
         ],
         "title": {
          "text": "epoch"
         }
        },
        "yaxis": {
         "anchor": "x",
         "domain": [
          0,
          1
         ],
         "exponentformat": "e",
         "title": {
          "text": "value"
         },
         "type": "log"
        }
       }
      },
      "text/html": [
       "<div>                            <div id=\"27dce2e0-ff90-4919-9518-0a8cd375a1a7\" class=\"plotly-graph-div\" style=\"height:400px; width:700px;\"></div>            <script type=\"text/javascript\">                require([\"plotly\"], function(Plotly) {                    window.PLOTLYENV=window.PLOTLYENV || {};                                    if (document.getElementById(\"27dce2e0-ff90-4919-9518-0a8cd375a1a7\")) {                    Plotly.newPlot(                        \"27dce2e0-ff90-4919-9518-0a8cd375a1a7\",                        [{\"hovertemplate\":\"variable=train_loss<br>epoch=%{x}<br>value=%{y}<extra></extra>\",\"legendgroup\":\"train_loss\",\"line\":{\"color\":\"#636efa\",\"dash\":\"solid\"},\"marker\":{\"symbol\":\"circle\"},\"mode\":\"lines\",\"name\":\"train_loss\",\"orientation\":\"v\",\"showlegend\":true,\"x\":[1.0,2.0,3.0,4.0,5.0],\"xaxis\":\"x\",\"y\":[178.3000030517578,14.300000190734863,12.0600004196167,11.869999885559082,10.90999984741211],\"yaxis\":\"y\",\"type\":\"scatter\"},{\"hovertemplate\":\"variable=valid_loss<br>epoch=%{x}<br>value=%{y}<extra></extra>\",\"legendgroup\":\"valid_loss\",\"line\":{\"color\":\"#EF553B\",\"dash\":\"solid\"},\"marker\":{\"symbol\":\"circle\"},\"mode\":\"lines\",\"name\":\"valid_loss\",\"orientation\":\"v\",\"showlegend\":true,\"x\":[1.0,2.0,3.0,4.0,5.0],\"xaxis\":\"x\",\"y\":[172.39999389648438,7.824999809265137,11.729999542236328,8.484999656677246,7.611999988555908],\"yaxis\":\"y\",\"type\":\"scatter\"}],                        {\"template\":{\"data\":{\"histogram2dcontour\":[{\"type\":\"histogram2dcontour\",\"colorbar\":{\"outlinewidth\":0,\"ticks\":\"\"},\"colorscale\":[[0.0,\"#0d0887\"],[0.1111111111111111,\"#46039f\"],[0.2222222222222222,\"#7201a8\"],[0.3333333333333333,\"#9c179e\"],[0.4444444444444444,\"#bd3786\"],[0.5555555555555556,\"#d8576b\"],[0.6666666666666666,\"#ed7953\"],[0.7777777777777778,\"#fb9f3a\"],[0.8888888888888888,\"#fdca26\"],[1.0,\"#f0f921\"]]}],\"choropleth\":[{\"type\":\"choropleth\",\"colorbar\":{\"outlinewidth\":0,\"ticks\":\"\"}}],\"histogram2d\":[{\"type\":\"histogram2d\",\"colorbar\":{\"outlinewidth\":0,\"ticks\":\"\"},\"colorscale\":[[0.0,\"#0d0887\"],[0.1111111111111111,\"#46039f\"],[0.2222222222222222,\"#7201a8\"],[0.3333333333333333,\"#9c179e\"],[0.4444444444444444,\"#bd3786\"],[0.5555555555555556,\"#d8576b\"],[0.6666666666666666,\"#ed7953\"],[0.7777777777777778,\"#fb9f3a\"],[0.8888888888888888,\"#fdca26\"],[1.0,\"#f0f921\"]]}],\"heatmap\":[{\"type\":\"heatmap\",\"colorbar\":{\"outlinewidth\":0,\"ticks\":\"\"},\"colorscale\":[[0.0,\"#0d0887\"],[0.1111111111111111,\"#46039f\"],[0.2222222222222222,\"#7201a8\"],[0.3333333333333333,\"#9c179e\"],[0.4444444444444444,\"#bd3786\"],[0.5555555555555556,\"#d8576b\"],[0.6666666666666666,\"#ed7953\"],[0.7777777777777778,\"#fb9f3a\"],[0.8888888888888888,\"#fdca26\"],[1.0,\"#f0f921\"]]}],\"heatmapgl\":[{\"type\":\"heatmapgl\",\"colorbar\":{\"outlinewidth\":0,\"ticks\":\"\"},\"colorscale\":[[0.0,\"#0d0887\"],[0.1111111111111111,\"#46039f\"],[0.2222222222222222,\"#7201a8\"],[0.3333333333333333,\"#9c179e\"],[0.4444444444444444,\"#bd3786\"],[0.5555555555555556,\"#d8576b\"],[0.6666666666666666,\"#ed7953\"],[0.7777777777777778,\"#fb9f3a\"],[0.8888888888888888,\"#fdca26\"],[1.0,\"#f0f921\"]]}],\"contourcarpet\":[{\"type\":\"contourcarpet\",\"colorbar\":{\"outlinewidth\":0,\"ticks\":\"\"}}],\"contour\":[{\"type\":\"contour\",\"colorbar\":{\"outlinewidth\":0,\"ticks\":\"\"},\"colorscale\":[[0.0,\"#0d0887\"],[0.1111111111111111,\"#46039f\"],[0.2222222222222222,\"#7201a8\"],[0.3333333333333333,\"#9c179e\"],[0.4444444444444444,\"#bd3786\"],[0.5555555555555556,\"#d8576b\"],[0.6666666666666666,\"#ed7953\"],[0.7777777777777778,\"#fb9f3a\"],[0.8888888888888888,\"#fdca26\"],[1.0,\"#f0f921\"]]}],\"surface\":[{\"type\":\"surface\",\"colorbar\":{\"outlinewidth\":0,\"ticks\":\"\"},\"colorscale\":[[0.0,\"#0d0887\"],[0.1111111111111111,\"#46039f\"],[0.2222222222222222,\"#7201a8\"],[0.3333333333333333,\"#9c179e\"],[0.4444444444444444,\"#bd3786\"],[0.5555555555555556,\"#d8576b\"],[0.6666666666666666,\"#ed7953\"],[0.7777777777777778,\"#fb9f3a\"],[0.8888888888888888,\"#fdca26\"],[1.0,\"#f0f921\"]]}],\"mesh3d\":[{\"type\":\"mesh3d\",\"colorbar\":{\"outlinewidth\":0,\"ticks\":\"\"}}],\"scatter\":[{\"fillpattern\":{\"fillmode\":\"overlay\",\"size\":10,\"solidity\":0.2},\"type\":\"scatter\"}],\"parcoords\":[{\"type\":\"parcoords\",\"line\":{\"colorbar\":{\"outlinewidth\":0,\"ticks\":\"\"}}}],\"scatterpolargl\":[{\"type\":\"scatterpolargl\",\"marker\":{\"colorbar\":{\"outlinewidth\":0,\"ticks\":\"\"}}}],\"bar\":[{\"error_x\":{\"color\":\"#2a3f5f\"},\"error_y\":{\"color\":\"#2a3f5f\"},\"marker\":{\"line\":{\"color\":\"#E5ECF6\",\"width\":0.5},\"pattern\":{\"fillmode\":\"overlay\",\"size\":10,\"solidity\":0.2}},\"type\":\"bar\"}],\"scattergeo\":[{\"type\":\"scattergeo\",\"marker\":{\"colorbar\":{\"outlinewidth\":0,\"ticks\":\"\"}}}],\"scatterpolar\":[{\"type\":\"scatterpolar\",\"marker\":{\"colorbar\":{\"outlinewidth\":0,\"ticks\":\"\"}}}],\"histogram\":[{\"marker\":{\"pattern\":{\"fillmode\":\"overlay\",\"size\":10,\"solidity\":0.2}},\"type\":\"histogram\"}],\"scattergl\":[{\"type\":\"scattergl\",\"marker\":{\"colorbar\":{\"outlinewidth\":0,\"ticks\":\"\"}}}],\"scatter3d\":[{\"type\":\"scatter3d\",\"line\":{\"colorbar\":{\"outlinewidth\":0,\"ticks\":\"\"}},\"marker\":{\"colorbar\":{\"outlinewidth\":0,\"ticks\":\"\"}}}],\"scattermapbox\":[{\"type\":\"scattermapbox\",\"marker\":{\"colorbar\":{\"outlinewidth\":0,\"ticks\":\"\"}}}],\"scatterternary\":[{\"type\":\"scatterternary\",\"marker\":{\"colorbar\":{\"outlinewidth\":0,\"ticks\":\"\"}}}],\"scattercarpet\":[{\"type\":\"scattercarpet\",\"marker\":{\"colorbar\":{\"outlinewidth\":0,\"ticks\":\"\"}}}],\"carpet\":[{\"aaxis\":{\"endlinecolor\":\"#2a3f5f\",\"gridcolor\":\"white\",\"linecolor\":\"white\",\"minorgridcolor\":\"white\",\"startlinecolor\":\"#2a3f5f\"},\"baxis\":{\"endlinecolor\":\"#2a3f5f\",\"gridcolor\":\"white\",\"linecolor\":\"white\",\"minorgridcolor\":\"white\",\"startlinecolor\":\"#2a3f5f\"},\"type\":\"carpet\"}],\"table\":[{\"cells\":{\"fill\":{\"color\":\"#EBF0F8\"},\"line\":{\"color\":\"white\"}},\"header\":{\"fill\":{\"color\":\"#C8D4E3\"},\"line\":{\"color\":\"white\"}},\"type\":\"table\"}],\"barpolar\":[{\"marker\":{\"line\":{\"color\":\"#E5ECF6\",\"width\":0.5},\"pattern\":{\"fillmode\":\"overlay\",\"size\":10,\"solidity\":0.2}},\"type\":\"barpolar\"}],\"pie\":[{\"automargin\":true,\"type\":\"pie\"}]},\"layout\":{\"autotypenumbers\":\"strict\",\"colorway\":[\"#636efa\",\"#EF553B\",\"#00cc96\",\"#ab63fa\",\"#FFA15A\",\"#19d3f3\",\"#FF6692\",\"#B6E880\",\"#FF97FF\",\"#FECB52\"],\"font\":{\"color\":\"#2a3f5f\"},\"hovermode\":\"closest\",\"hoverlabel\":{\"align\":\"left\"},\"paper_bgcolor\":\"white\",\"plot_bgcolor\":\"#E5ECF6\",\"polar\":{\"bgcolor\":\"#E5ECF6\",\"angularaxis\":{\"gridcolor\":\"white\",\"linecolor\":\"white\",\"ticks\":\"\"},\"radialaxis\":{\"gridcolor\":\"white\",\"linecolor\":\"white\",\"ticks\":\"\"}},\"ternary\":{\"bgcolor\":\"#E5ECF6\",\"aaxis\":{\"gridcolor\":\"white\",\"linecolor\":\"white\",\"ticks\":\"\"},\"baxis\":{\"gridcolor\":\"white\",\"linecolor\":\"white\",\"ticks\":\"\"},\"caxis\":{\"gridcolor\":\"white\",\"linecolor\":\"white\",\"ticks\":\"\"}},\"coloraxis\":{\"colorbar\":{\"outlinewidth\":0,\"ticks\":\"\"}},\"colorscale\":{\"sequential\":[[0.0,\"#0d0887\"],[0.1111111111111111,\"#46039f\"],[0.2222222222222222,\"#7201a8\"],[0.3333333333333333,\"#9c179e\"],[0.4444444444444444,\"#bd3786\"],[0.5555555555555556,\"#d8576b\"],[0.6666666666666666,\"#ed7953\"],[0.7777777777777778,\"#fb9f3a\"],[0.8888888888888888,\"#fdca26\"],[1.0,\"#f0f921\"]],\"sequentialminus\":[[0.0,\"#0d0887\"],[0.1111111111111111,\"#46039f\"],[0.2222222222222222,\"#7201a8\"],[0.3333333333333333,\"#9c179e\"],[0.4444444444444444,\"#bd3786\"],[0.5555555555555556,\"#d8576b\"],[0.6666666666666666,\"#ed7953\"],[0.7777777777777778,\"#fb9f3a\"],[0.8888888888888888,\"#fdca26\"],[1.0,\"#f0f921\"]],\"diverging\":[[0,\"#8e0152\"],[0.1,\"#c51b7d\"],[0.2,\"#de77ae\"],[0.3,\"#f1b6da\"],[0.4,\"#fde0ef\"],[0.5,\"#f7f7f7\"],[0.6,\"#e6f5d0\"],[0.7,\"#b8e186\"],[0.8,\"#7fbc41\"],[0.9,\"#4d9221\"],[1,\"#276419\"]]},\"xaxis\":{\"gridcolor\":\"white\",\"linecolor\":\"white\",\"ticks\":\"\",\"title\":{\"standoff\":15},\"zerolinecolor\":\"white\",\"automargin\":true,\"zerolinewidth\":2},\"yaxis\":{\"gridcolor\":\"white\",\"linecolor\":\"white\",\"ticks\":\"\",\"title\":{\"standoff\":15},\"zerolinecolor\":\"white\",\"automargin\":true,\"zerolinewidth\":2},\"scene\":{\"xaxis\":{\"backgroundcolor\":\"#E5ECF6\",\"gridcolor\":\"white\",\"linecolor\":\"white\",\"showbackground\":true,\"ticks\":\"\",\"zerolinecolor\":\"white\",\"gridwidth\":2},\"yaxis\":{\"backgroundcolor\":\"#E5ECF6\",\"gridcolor\":\"white\",\"linecolor\":\"white\",\"showbackground\":true,\"ticks\":\"\",\"zerolinecolor\":\"white\",\"gridwidth\":2},\"zaxis\":{\"backgroundcolor\":\"#E5ECF6\",\"gridcolor\":\"white\",\"linecolor\":\"white\",\"showbackground\":true,\"ticks\":\"\",\"zerolinecolor\":\"white\",\"gridwidth\":2}},\"shapedefaults\":{\"line\":{\"color\":\"#2a3f5f\"}},\"annotationdefaults\":{\"arrowcolor\":\"#2a3f5f\",\"arrowhead\":0,\"arrowwidth\":1},\"geo\":{\"bgcolor\":\"white\",\"landcolor\":\"#E5ECF6\",\"subunitcolor\":\"white\",\"showland\":true,\"showlakes\":true,\"lakecolor\":\"white\"},\"title\":{\"x\":0.05},\"mapbox\":{\"style\":\"light\"}}},\"xaxis\":{\"anchor\":\"y\",\"domain\":[0.0,1.0],\"title\":{\"text\":\"epoch\"}},\"yaxis\":{\"anchor\":\"x\",\"domain\":[0.0,1.0],\"title\":{\"text\":\"value\"},\"type\":\"log\",\"exponentformat\":\"e\"},\"legend\":{\"title\":{\"text\":\"variable\"},\"tracegroupgap\":0},\"title\":{\"text\":\"Training Progress\"},\"height\":400,\"width\":700,\"hovermode\":\"x\"},                        {\"responsive\": true}                    ).then(function(){\n",
       "                            \n",
       "var gd = document.getElementById('27dce2e0-ff90-4919-9518-0a8cd375a1a7');\n",
       "var x = new MutationObserver(function (mutations, observer) {{\n",
       "        var display = window.getComputedStyle(gd).display;\n",
       "        if (!display || display === 'none') {{\n",
       "            console.log([gd, 'removed!']);\n",
       "            Plotly.purge(gd);\n",
       "            observer.disconnect();\n",
       "        }}\n",
       "}});\n",
       "\n",
       "// Listen for the removal of the full notebook cells\n",
       "var notebookContainer = gd.closest('#notebook-container');\n",
       "if (notebookContainer) {{\n",
       "    x.observe(notebookContainer, {childList: true});\n",
       "}}\n",
       "\n",
       "// Listen for the clearing of the current output cell\n",
       "var outputEl = gd.closest('.output');\n",
       "if (outputEl) {{\n",
       "    x.observe(outputEl, {childList: true});\n",
       "}}\n",
       "\n",
       "                        })                };                });            </script>        </div>"
      ]
     },
     "metadata": {},
     "output_type": "display_data"
    }
   ],
   "source": [
    "# Tracking the loss in training and validation is essential.\n",
    "# log_plot() extracts the data from the logs into pandas DataFrame,\n",
    "# and then produces interactive plots with plotly.\n",
    "\n",
    "from sapsan.utils.plot import log_plot\n",
    "\n",
    "class ml_logs:\n",
    "    # Create and cleanup fake training logs\n",
    "    def __init__(self, log_path, valid_log_path, delimiter):        \n",
    "        self.log_path       = log_path\n",
    "        self.valid_log_path = valid_log_path\n",
    "        self.delimiter      = delimiter\n",
    "\n",
    "    def create_logs(self):        \n",
    "        train_log = np.array([[1,1.783e+02],\n",
    "                              [2,1.430e+01],\n",
    "                              [3,1.206e+01],\n",
    "                              [4,1.187e+01],\n",
    "                              [5,1.091e+01]])\n",
    "        \n",
    "        self.write_log(self.log_path, train_log)\n",
    "            \n",
    "        np.random.seed(4)\n",
    "        valid_log      = train_log        \n",
    "        valid_log[:,1]*= np.random.rand(len(train_log))\n",
    "        \n",
    "        self.write_log(self.valid_log_path, valid_log)\n",
    "    \n",
    "    def write_log(self, path, data):\n",
    "        with open(path,'w') as f:\n",
    "            np.savetxt(f, data, fmt=f'%d {self.delimiter} %.3e', \n",
    "                       delimiter=self.delimiter, header=f'epoch {self.delimiter} loss')\n",
    "            \n",
    "    def cleanup(self):\n",
    "        os.remove(self.log_path)\n",
    "        os.remove(self.valid_log_path)\n",
    "\n",
    "\n",
    "log_path       = 'example_train_log.txt'\n",
    "valid_log_path = 'example_valid_log.txt'\n",
    "delimiter      = '\\t'\n",
    "\n",
    "# Let's create pseudo training logs\n",
    "logs = ml_logs(log_path, valid_log_path, delimiter)\n",
    "logs.create_logs()\n",
    "\n",
    "# By default, epochs are assumed to be in column 0, and loss in 1.\n",
    "# Those can be specified via epoch_column, train_column, and valid_column.\n",
    "log = log_plot(show_log       = True,\n",
    "               log_path       = log_path, \n",
    "               valid_log_path = valid_log_path, \n",
    "               delimiter      = delimiter)\n",
    "\n",
    "# cleanup\n",
    "logs.cleanup()"
   ]
  },
  {
   "cell_type": "code",
   "execution_count": 8,
   "metadata": {},
   "outputs": [
    {
     "name": "stdout",
     "output_type": "stream",
     "text": [
      "\n",
      "WARNING: your batch_num=1, hence the data cannot be split into train and valid (perhaps you only loaded 1 checkpoint). Setting valid = test data...\n",
      "\n",
      "Train data shapes:  (1, 3, 32, 32, 32) (1, 98304)\n",
      "Valid data shapes:  (1, 3, 32, 32, 32) (1, 98304)\n"
     ]
    },
    {
     "name": "stderr",
     "output_type": "stream",
     "text": [
      "/home/pkarpov/Sapsan/sapsan/examples/../../sapsan/utils/hiddenlayer/pytorch_builder.py:75: FutureWarning:\n",
      "\n",
      "'torch.onnx._patch_torch._node_getitem' is deprecated in version 1.13 and will be removed in version 1.14. Please Internally use '_node_get' in symbolic_helper instead..\n",
      "\n"
     ]
    },
    {
     "data": {
      "image/svg+xml": [
       "<?xml version=\"1.0\" encoding=\"UTF-8\" standalone=\"no\"?>\n",
       "<!DOCTYPE svg PUBLIC \"-//W3C//DTD SVG 1.1//EN\"\n",
       " \"http://www.w3.org/Graphics/SVG/1.1/DTD/svg11.dtd\">\n",
       "<!-- Generated by graphviz version 2.50.0 (0)\n",
       " -->\n",
       "<!-- Pages: 1 -->\n",
       "<svg width=\"338pt\" height=\"614pt\"\n",
       " viewBox=\"0.00 0.00 338.00 614.00\" xmlns=\"http://www.w3.org/2000/svg\" xmlns:xlink=\"http://www.w3.org/1999/xlink\">\n",
       "<g id=\"graph0\" class=\"graph\" transform=\"scale(1 1) rotate(0) translate(72 578)\">\n",
       "<polygon fill=\"#ffffff\" stroke=\"transparent\" points=\"-72,36 -72,-578 266,-578 266,36 -72,36\"/>\n",
       "<!-- /outputs/11 -->\n",
       "<g id=\"node1\" class=\"node\">\n",
       "<title>/outputs/11</title>\n",
       "<polygon fill=\"#bcd6fc\" stroke=\"#7c96bc\" points=\"124,-542 70,-542 70,-506 124,-506 124,-542\"/>\n",
       "<text text-anchor=\"start\" x=\"85\" y=\"-521\" font-family=\"Verdana\" font-size=\"10.00\" fill=\"#202020\">Input</text>\n",
       "</g>\n",
       "<!-- 13281441329574904162 -->\n",
       "<g id=\"node7\" class=\"node\">\n",
       "<title>13281441329574904162</title>\n",
       "<polygon fill=\"#bcd6fc\" stroke=\"#7c96bc\" points=\"194,-459 0,-459 0,-415 194,-415 194,-459\"/>\n",
       "<text text-anchor=\"start\" x=\"8\" y=\"-443\" font-family=\"Verdana\" font-size=\"10.00\" fill=\"#202020\">Conv2x2x2 &gt; MaxPool2x2x2 &gt; Relu</text>\n",
       "<text text-anchor=\"start\" x=\"177\" y=\"-422\" font-family=\"Verdana\" font-size=\"10.00\" fill=\"#202020\">x2</text>\n",
       "</g>\n",
       "<!-- /outputs/11&#45;&gt;13281441329574904162 -->\n",
       "<g id=\"edge5\" class=\"edge\">\n",
       "<title>/outputs/11&#45;&gt;13281441329574904162</title>\n",
       "<path fill=\"none\" stroke=\"#7c96bc\" d=\"M97,-505.8C97,-495.37 97,-481.74 97,-469.44\"/>\n",
       "<polygon fill=\"#7c96bc\" stroke=\"#7c96bc\" points=\"100.5,-469.09 97,-459.09 93.5,-469.09 100.5,-469.09\"/>\n",
       "<text text-anchor=\"middle\" x=\"133.5\" y=\"-480\" font-family=\"Verdana\" font-size=\"10.00\" fill=\"#202020\">1x3x32x32x32</text>\n",
       "</g>\n",
       "<!-- /outputs/27 -->\n",
       "<g id=\"node2\" class=\"node\">\n",
       "<title>/outputs/27</title>\n",
       "<polygon fill=\"#bcd6fc\" stroke=\"#7c96bc\" points=\"126.5,-285 67.5,-285 67.5,-249 126.5,-249 126.5,-285\"/>\n",
       "<text text-anchor=\"start\" x=\"76\" y=\"-264\" font-family=\"Verdana\" font-size=\"10.00\" fill=\"#202020\">Reshape</text>\n",
       "</g>\n",
       "<!-- /outputs/28 -->\n",
       "<g id=\"node3\" class=\"node\">\n",
       "<title>/outputs/28</title>\n",
       "<polygon fill=\"#bcd6fc\" stroke=\"#7c96bc\" points=\"124,-202 70,-202 70,-166 124,-166 124,-202\"/>\n",
       "<text text-anchor=\"start\" x=\"82\" y=\"-181\" font-family=\"Verdana\" font-size=\"10.00\" fill=\"#202020\">Linear</text>\n",
       "</g>\n",
       "<!-- /outputs/27&#45;&gt;/outputs/28 -->\n",
       "<g id=\"edge1\" class=\"edge\">\n",
       "<title>/outputs/27&#45;&gt;/outputs/28</title>\n",
       "<path fill=\"none\" stroke=\"#7c96bc\" d=\"M97,-248.82C97,-238.19 97,-224.31 97,-212.2\"/>\n",
       "<polygon fill=\"#7c96bc\" stroke=\"#7c96bc\" points=\"100.5,-212.15 97,-202.15 93.5,-212.15 100.5,-212.15\"/>\n",
       "<text text-anchor=\"middle\" x=\"109.5\" y=\"-223\" font-family=\"Verdana\" font-size=\"10.00\" fill=\"#202020\">1x12</text>\n",
       "</g>\n",
       "<!-- /outputs/29 -->\n",
       "<g id=\"node4\" class=\"node\">\n",
       "<title>/outputs/29</title>\n",
       "<polygon fill=\"#bcd6fc\" stroke=\"#7c96bc\" points=\"124,-119 70,-119 70,-83 124,-83 124,-119\"/>\n",
       "<text text-anchor=\"start\" x=\"86\" y=\"-98\" font-family=\"Verdana\" font-size=\"10.00\" fill=\"#202020\">Relu</text>\n",
       "</g>\n",
       "<!-- /outputs/28&#45;&gt;/outputs/29 -->\n",
       "<g id=\"edge2\" class=\"edge\">\n",
       "<title>/outputs/28&#45;&gt;/outputs/29</title>\n",
       "<path fill=\"none\" stroke=\"#7c96bc\" d=\"M97,-165.82C97,-155.19 97,-141.31 97,-129.2\"/>\n",
       "<polygon fill=\"#7c96bc\" stroke=\"#7c96bc\" points=\"100.5,-129.15 97,-119.15 93.5,-129.15 100.5,-129.15\"/>\n",
       "<text text-anchor=\"middle\" x=\"109.5\" y=\"-140\" font-family=\"Verdana\" font-size=\"10.00\" fill=\"#202020\">1x24</text>\n",
       "</g>\n",
       "<!-- /outputs/30 -->\n",
       "<g id=\"node5\" class=\"node\">\n",
       "<title>/outputs/30</title>\n",
       "<polygon fill=\"#bcd6fc\" stroke=\"#7c96bc\" points=\"124,-36 70,-36 70,0 124,0 124,-36\"/>\n",
       "<text text-anchor=\"start\" x=\"82\" y=\"-15\" font-family=\"Verdana\" font-size=\"10.00\" fill=\"#202020\">Linear</text>\n",
       "</g>\n",
       "<!-- /outputs/29&#45;&gt;/outputs/30 -->\n",
       "<g id=\"edge3\" class=\"edge\">\n",
       "<title>/outputs/29&#45;&gt;/outputs/30</title>\n",
       "<path fill=\"none\" stroke=\"#7c96bc\" d=\"M97,-82.82C97,-72.19 97,-58.31 97,-46.2\"/>\n",
       "<polygon fill=\"#7c96bc\" stroke=\"#7c96bc\" points=\"100.5,-46.15 97,-36.15 93.5,-46.15 100.5,-46.15\"/>\n",
       "<text text-anchor=\"middle\" x=\"109.5\" y=\"-57\" font-family=\"Verdana\" font-size=\"10.00\" fill=\"#202020\">1x24</text>\n",
       "</g>\n",
       "<!-- 17618451234969450543 -->\n",
       "<g id=\"node6\" class=\"node\">\n",
       "<title>17618451234969450543</title>\n",
       "<polygon fill=\"#bcd6fc\" stroke=\"#7c96bc\" points=\"176,-368 18,-368 18,-332 176,-332 176,-368\"/>\n",
       "<text text-anchor=\"start\" x=\"26\" y=\"-347\" font-family=\"Verdana\" font-size=\"10.00\" fill=\"#202020\">Conv2x2x2 &gt; MaxPool2x2x2</text>\n",
       "</g>\n",
       "<!-- 17618451234969450543&#45;&gt;/outputs/27 -->\n",
       "<g id=\"edge4\" class=\"edge\">\n",
       "<title>17618451234969450543&#45;&gt;/outputs/27</title>\n",
       "<path fill=\"none\" stroke=\"#7c96bc\" d=\"M97,-331.82C97,-321.19 97,-307.31 97,-295.2\"/>\n",
       "<polygon fill=\"#7c96bc\" stroke=\"#7c96bc\" points=\"100.5,-295.15 97,-285.15 93.5,-295.15 100.5,-295.15\"/>\n",
       "<text text-anchor=\"middle\" x=\"127.5\" y=\"-306\" font-family=\"Verdana\" font-size=\"10.00\" fill=\"#202020\">1x12x1x1x1</text>\n",
       "</g>\n",
       "<!-- 13281441329574904162&#45;&gt;17618451234969450543 -->\n",
       "<g id=\"edge6\" class=\"edge\">\n",
       "<title>13281441329574904162&#45;&gt;17618451234969450543</title>\n",
       "<path fill=\"none\" stroke=\"#7c96bc\" d=\"M97,-414.99C97,-403.92 97,-390.22 97,-378.34\"/>\n",
       "<polygon fill=\"#7c96bc\" stroke=\"#7c96bc\" points=\"100.5,-378.06 97,-368.06 93.5,-378.06 100.5,-378.06\"/>\n",
       "<text text-anchor=\"middle\" x=\"124.5\" y=\"-389\" font-family=\"Verdana\" font-size=\"10.00\" fill=\"#202020\">1x6x3x3x3</text>\n",
       "</g>\n",
       "</g>\n",
       "</svg>\n"
      ],
      "text/plain": [
       "<sapsan.utils.hiddenlayer.graph.Graph at 0x7f430d9dbd60>"
      ]
     },
     "execution_count": 8,
     "metadata": {},
     "output_type": "execute_result"
    }
   ],
   "source": [
    "# Visualize the model structure with model_graph\n",
    "from sapsan.lib.estimator.cnn.cnn3d_estimator import CNN3d, CNN3dConfig\n",
    "from sapsan.lib.data import get_loader_shape\n",
    "from sapsan.utils.plot import model_graph\n",
    "\n",
    "# Convert our raw data to a Torch loader\n",
    "loaders = data_loader.convert_to_torch([x, y])\n",
    "\n",
    "# Initialize the model you want to make a graph of\n",
    "estimator = CNN3d(config = CNN3dConfig(),\n",
    "                  loaders = loaders)\n",
    "\n",
    "# extract shapes of the loaders to initialize the graph\n",
    "shape_x, shape_y = get_loader_shape(loaders)\n",
    "\n",
    "model_graph(model = estimator.model, shape = shape_x)"
   ]
  },
  {
   "cell_type": "code",
   "execution_count": 9,
   "metadata": {},
   "outputs": [
    {
     "name": "stderr",
     "output_type": "stream",
     "text": [
      "/home/pkarpov/Sapsan/sapsan/examples/../../sapsan/utils/hiddenlayer/pytorch_builder.py:75: FutureWarning:\n",
      "\n",
      "'torch.onnx._patch_torch._node_getitem' is deprecated in version 1.13 and will be removed in version 1.14. Please Internally use '_node_get' in symbolic_helper instead..\n",
      "\n"
     ]
    },
    {
     "data": {
      "image/svg+xml": [
       "<?xml version=\"1.0\" encoding=\"UTF-8\" standalone=\"no\"?>\n",
       "<!DOCTYPE svg PUBLIC \"-//W3C//DTD SVG 1.1//EN\"\n",
       " \"http://www.w3.org/Graphics/SVG/1.1/DTD/svg11.dtd\">\n",
       "<!-- Generated by graphviz version 2.50.0 (0)\n",
       " -->\n",
       "<!-- Pages: 1 -->\n",
       "<svg width=\"338pt\" height=\"448pt\"\n",
       " viewBox=\"0.00 0.00 338.00 448.00\" xmlns=\"http://www.w3.org/2000/svg\" xmlns:xlink=\"http://www.w3.org/1999/xlink\">\n",
       "<g id=\"graph0\" class=\"graph\" transform=\"scale(1 1) rotate(0) translate(72 412)\">\n",
       "<polygon fill=\"#ffffff\" stroke=\"transparent\" points=\"-72,36 -72,-412 266,-412 266,36 -72,36\"/>\n",
       "<!-- /outputs/11 -->\n",
       "<g id=\"node1\" class=\"node\">\n",
       "<title>/outputs/11</title>\n",
       "<polygon fill=\"#bcd6fc\" stroke=\"#7c96bc\" points=\"124,-376 70,-376 70,-340 124,-340 124,-376\"/>\n",
       "<text text-anchor=\"start\" x=\"85\" y=\"-355\" font-family=\"Verdana\" font-size=\"10.00\" fill=\"#202020\">Input</text>\n",
       "</g>\n",
       "<!-- 4288607846377828848 -->\n",
       "<g id=\"node4\" class=\"node\">\n",
       "<title>4288607846377828848</title>\n",
       "<polygon fill=\"#bcd6fc\" stroke=\"#7c96bc\" points=\"194,-293 0,-293 0,-249 194,-249 194,-293\"/>\n",
       "<text text-anchor=\"start\" x=\"8\" y=\"-277\" font-family=\"Verdana\" font-size=\"10.00\" fill=\"#202020\">Conv2x2x2 &gt; MaxPool2x2x2 &gt; Relu</text>\n",
       "<text text-anchor=\"start\" x=\"177\" y=\"-256\" font-family=\"Verdana\" font-size=\"10.00\" fill=\"#202020\">x2</text>\n",
       "</g>\n",
       "<!-- /outputs/11&#45;&gt;4288607846377828848 -->\n",
       "<g id=\"edge2\" class=\"edge\">\n",
       "<title>/outputs/11&#45;&gt;4288607846377828848</title>\n",
       "<path fill=\"none\" stroke=\"#7c96bc\" d=\"M97,-339.8C97,-329.37 97,-315.74 97,-303.44\"/>\n",
       "<polygon fill=\"#7c96bc\" stroke=\"#7c96bc\" points=\"100.5,-303.09 97,-293.09 93.5,-303.09 100.5,-303.09\"/>\n",
       "<text text-anchor=\"middle\" x=\"133.5\" y=\"-314\" font-family=\"Verdana\" font-size=\"10.00\" fill=\"#202020\">1x3x32x32x32</text>\n",
       "</g>\n",
       "<!-- /outputs/27 -->\n",
       "<g id=\"node2\" class=\"node\">\n",
       "<title>/outputs/27</title>\n",
       "<polygon fill=\"#bcd6fc\" stroke=\"#7c96bc\" points=\"126.5,-119 67.5,-119 67.5,-83 126.5,-83 126.5,-119\"/>\n",
       "<text text-anchor=\"start\" x=\"76\" y=\"-98\" font-family=\"Verdana\" font-size=\"10.00\" fill=\"#202020\">Reshape</text>\n",
       "</g>\n",
       "<!-- 13073342175425221395 -->\n",
       "<g id=\"node5\" class=\"node\">\n",
       "<title>13073342175425221395</title>\n",
       "<polygon fill=\"#bcd6fc\" stroke=\"#7c96bc\" points=\"160.5,-36 33.5,-36 33.5,0 160.5,0 160.5,-36\"/>\n",
       "<text text-anchor=\"start\" x=\"42\" y=\"-15\" font-family=\"Verdana\" font-size=\"10.00\" fill=\"#202020\">Linear &gt; Relu &gt; Linear</text>\n",
       "</g>\n",
       "<!-- /outputs/27&#45;&gt;13073342175425221395 -->\n",
       "<g id=\"edge4\" class=\"edge\">\n",
       "<title>/outputs/27&#45;&gt;13073342175425221395</title>\n",
       "<path fill=\"none\" stroke=\"#7c96bc\" d=\"M97,-82.82C97,-72.19 97,-58.31 97,-46.2\"/>\n",
       "<polygon fill=\"#7c96bc\" stroke=\"#7c96bc\" points=\"100.5,-46.15 97,-36.15 93.5,-46.15 100.5,-46.15\"/>\n",
       "<text text-anchor=\"middle\" x=\"109.5\" y=\"-57\" font-family=\"Verdana\" font-size=\"10.00\" fill=\"#202020\">1x12</text>\n",
       "</g>\n",
       "<!-- 8033477533942253392 -->\n",
       "<g id=\"node3\" class=\"node\">\n",
       "<title>8033477533942253392</title>\n",
       "<polygon fill=\"#bcd6fc\" stroke=\"#7c96bc\" points=\"176,-202 18,-202 18,-166 176,-166 176,-202\"/>\n",
       "<text text-anchor=\"start\" x=\"26\" y=\"-181\" font-family=\"Verdana\" font-size=\"10.00\" fill=\"#202020\">Conv2x2x2 &gt; MaxPool2x2x2</text>\n",
       "</g>\n",
       "<!-- 8033477533942253392&#45;&gt;/outputs/27 -->\n",
       "<g id=\"edge1\" class=\"edge\">\n",
       "<title>8033477533942253392&#45;&gt;/outputs/27</title>\n",
       "<path fill=\"none\" stroke=\"#7c96bc\" d=\"M97,-165.82C97,-155.19 97,-141.31 97,-129.2\"/>\n",
       "<polygon fill=\"#7c96bc\" stroke=\"#7c96bc\" points=\"100.5,-129.15 97,-119.15 93.5,-129.15 100.5,-129.15\"/>\n",
       "<text text-anchor=\"middle\" x=\"127.5\" y=\"-140\" font-family=\"Verdana\" font-size=\"10.00\" fill=\"#202020\">1x12x1x1x1</text>\n",
       "</g>\n",
       "<!-- 4288607846377828848&#45;&gt;8033477533942253392 -->\n",
       "<g id=\"edge3\" class=\"edge\">\n",
       "<title>4288607846377828848&#45;&gt;8033477533942253392</title>\n",
       "<path fill=\"none\" stroke=\"#7c96bc\" d=\"M97,-248.99C97,-237.92 97,-224.22 97,-212.34\"/>\n",
       "<polygon fill=\"#7c96bc\" stroke=\"#7c96bc\" points=\"100.5,-212.06 97,-202.06 93.5,-212.06 100.5,-212.06\"/>\n",
       "<text text-anchor=\"middle\" x=\"124.5\" y=\"-223\" font-family=\"Verdana\" font-size=\"10.00\" fill=\"#202020\">1x6x3x3x3</text>\n",
       "</g>\n",
       "</g>\n",
       "</svg>\n"
      ],
      "text/plain": [
       "<sapsan.utils.hiddenlayer.graph.Graph at 0x7f4415047520>"
      ]
     },
     "execution_count": 9,
     "metadata": {},
     "output_type": "execute_result"
    }
   ],
   "source": [
    "# To make our graph more consice, we can combine the last 3 layers\n",
    "# via transforms. There are already some defaults which we will copy\n",
    "# from documentation and then add an entry to combine those last layers\n",
    "\n",
    "import sapsan.utils.hiddenlayer as hl\n",
    "\n",
    "transforms = [\n",
    "              hl.transforms.Fold(\"Conv > MaxPool > Relu\", \"ConvPoolRelu\"),\n",
    "              hl.transforms.Fold(\"Conv > MaxPool\", \"ConvPool\"),    \n",
    "              hl.transforms.Prune(\"Shape\"),\n",
    "              hl.transforms.Prune(\"Constant\"),\n",
    "              hl.transforms.Prune(\"Gather\"),\n",
    "              hl.transforms.Prune(\"Unsqueeze\"),\n",
    "              hl.transforms.Prune(\"Concat\"),\n",
    "              hl.transforms.Rename(\"Cast\", to=\"Input\"),\n",
    "              hl.transforms.FoldDuplicates(),\n",
    "              \n",
    "              # combining the last 3 layers\n",
    "              hl.transforms.Fold(\"Linear > Relu > Linear\", \"LRL\")\n",
    "             ]\n",
    "\n",
    "model_graph(model = estimator.model, shape = shape_x, transforms = transforms)"
   ]
  }
 ],
 "metadata": {
  "kernelspec": {
   "display_name": "Python 3",
   "language": "python",
   "name": "python3"
  },
  "language_info": {
   "codemirror_mode": {
    "name": "ipython",
    "version": 3
   },
   "file_extension": ".py",
   "mimetype": "text/x-python",
   "name": "python",
   "nbconvert_exporter": "python",
   "pygments_lexer": "ipython3",
   "version": "3.10.12"
  },
  "orig_nbformat": 4
 },
 "nbformat": 4,
 "nbformat_minor": 2
}
