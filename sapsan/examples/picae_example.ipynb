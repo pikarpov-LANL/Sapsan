{
 "cells": [
  {
   "cell_type": "code",
   "execution_count": null,
   "metadata": {
    "scrolled": true
   },
   "outputs": [],
   "source": [
    "%matplotlib inline\n",
    "\n",
    "#Note: example data is randomly generated, \n",
    "#      hence the results won't be valid.\n",
    "#      This is an algorithm template.\n",
    "\n",
    "import os\n",
    "import sys\n",
    "\n",
    "sys.path.append(\"../../\")\n",
    "\n",
    "from sapsan.lib.backends import MLflowBackend\n",
    "from sapsan.lib.data import HDF5Dataset, EquidistantSampling, flatten\n",
    "from sapsan.lib.estimator.picae.picae_estimator import PICAE, PICAEConfig\n",
    "from sapsan import Train, Evaluate, model_graph"
   ]
  },
  {
   "cell_type": "code",
   "execution_count": null,
   "metadata": {
    "pycharm": {
     "is_executing": false,
     "name": "#%%\n"
    }
   },
   "outputs": [],
   "source": [
    "#--- Experiment tracking backend ---\n",
    "#MLflow - the server will be launched automatically\n",
    "#in case it won't, type in cmd: mlflow ui --port=9000\n",
    "#uncomment tracking_backend to use mlflow\n",
    "\n",
    "experiment_name = \"PICAE experiment\"\n",
    "#tracking_backend = MLflowBackend(experiment_name, host=\"localhost\", port=9000)"
   ]
  },
  {
   "cell_type": "code",
   "execution_count": null,
   "metadata": {
    "pycharm": {
     "is_executing": false,
     "name": "#%%\n"
    }
   },
   "outputs": [],
   "source": [
    "#--- Data setup ---\n",
    "#In the intereset of loading and training multiple timesteps\n",
    "#one can specify which checkpoints to use and where\n",
    "#they appear in the path via syntax: {checkpoint:format}\n",
    "#\n",
    "#Next, you need to specify which features to load; let's assume \n",
    "#        path = \"{feature}.h5\"\n",
    "#\n",
    "# 1) If in different files, then specify features directly;\n",
    "#    The default HDF5 label will be the last label in the file\n",
    "#    Ex: features = ['velocity', 'denisty', 'pressure']\n",
    "# 2) If in the same, then duplicate the name in features\n",
    "#    and specify which labels to pull\n",
    "#    Ex: features = [\"data\", \"data\", \"data\"]\n",
    "#        feature_labels = ['velocity', 'density', 'pressure']\n",
    "\n",
    "path = \"data/t{checkpoint:1.0f}/picae_random_{feature}.h5\"\n",
    "features = ['u']\n",
    "target = ['u']\n",
    "\n",
    "#Dimensionality of your data in format (D,H,W)\n",
    "INPUT_SIZE = (32,32,32)\n",
    "\n",
    "#Reduce dimensionality to the following in format (D,H,W)\n",
    "SAMPLE_TO = (16,16,16)\n",
    "\n",
    "#Sampler to use for reduction\n",
    "sampler = EquidistantSampling(SAMPLE_TO)"
   ]
  },
  {
   "cell_type": "code",
   "execution_count": null,
   "metadata": {},
   "outputs": [],
   "source": [
    "#Load the data\n",
    "data_loader = HDF5Dataset(path = path,\n",
    "                          features = features,\n",
    "                          target = target,\n",
    "                          checkpoints = [0],\n",
    "                          input_size = INPUT_SIZE,\n",
    "                          sampler = sampler)\n",
    "x, y = data_loader.load_numpy()\n",
    "\n",
    "loaders = data_loader.convert_to_torch([x, y])"
   ]
  },
  {
   "cell_type": "code",
   "execution_count": null,
   "metadata": {},
   "outputs": [],
   "source": [
    "estimator = PICAE(config=PICAEConfig(nfilters = 6, \n",
    "                                     kernel_size = (3,3,3), \n",
    "                                     enc_nlayers = 3,                        \n",
    "                                     dec_nlayers = 3, \n",
    "                                     n_epochs = 5,\n",
    "                                     patience = 10, \n",
    "                                     min_delta = 1e-5),\n",
    "                 loaders = loaders)"
   ]
  },
  {
   "cell_type": "code",
   "execution_count": null,
   "metadata": {},
   "outputs": [],
   "source": [
    "#Set the experiment\n",
    "training_experiment = Train(model = estimator,\n",
    "                            #backend=tracking_backend, #uncomment to use mlflow                            \n",
    "                            data_parameters = data_loader)\n",
    "\n",
    "#Train the model\n",
    "estimator = training_experiment.run()"
   ]
  },
  {
   "cell_type": "code",
   "execution_count": null,
   "metadata": {
    "scrolled": false
   },
   "outputs": [],
   "source": [
    "%matplotlib inline\n",
    "\n",
    "#--- Test the model ---\n",
    "#Load the data\n",
    "data_loader = HDF5Dataset(path = path,\n",
    "                          features = features,\n",
    "                          target = target,\n",
    "                          checkpoints = [0],\n",
    "                          input_size = INPUT_SIZE,\n",
    "                          sampler = sampler)\n",
    "x, y = data_loader.load_numpy()\n",
    "\n",
    "loaders = data_loader.convert_to_torch([x,y])\n",
    "\n",
    "\n",
    "#Set the test experiment\n",
    "#loaders need to take in the same size data as the individual training batch\n",
    "estimator.loaders = loaders\n",
    "evaluation_experiment = Evaluate(model=estimator,\n",
    "                                 #backend=tracking_backend, #uncomment to use mlflow                                 \n",
    "                                 data_parameters = data_loader)\n",
    "\n",
    "\n",
    "#Test the model\n",
    "#eval returns a dict, cubes = {'pred_cube':np.ndarray, 'target_cube':np.ndarray}\n",
    "cubes = evaluation_experiment.run()"
   ]
  },
  {
   "cell_type": "code",
   "execution_count": null,
   "metadata": {},
   "outputs": [],
   "source": []
  }
 ],
 "metadata": {
  "kernelspec": {
   "display_name": "Python 3",
   "language": "python",
   "name": "python3"
  },
  "language_info": {
   "codemirror_mode": {
    "name": "ipython",
    "version": 3
   },
   "file_extension": ".py",
   "mimetype": "text/x-python",
   "name": "python",
   "nbconvert_exporter": "python",
   "pygments_lexer": "ipython3",
   "version": "3.7.4"
  },
  "pycharm": {
   "stem_cell": {
    "cell_type": "raw",
    "metadata": {
     "collapsed": false
    },
    "source": []
   }
  }
 },
 "nbformat": 4,
 "nbformat_minor": 2
}
