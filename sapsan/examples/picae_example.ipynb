{
 "cells": [
  {
   "cell_type": "code",
   "execution_count": null,
   "metadata": {
    "scrolled": true
   },
   "outputs": [],
   "source": [
    "\"\"\"\n",
    "This is a template for the Physics-Informed Convolution-AutoEncoder (PICAE)\n",
    "estimator. The algorithm enforces conservaiton of mass; built with PyTorch.\n",
    "\n",
    "Note: example data is randomly sampled from a normal distribution, \n",
    "      hence the results won't be valid.\n",
    "      \n",
    "-pikarpov      \n",
    "\"\"\"\n",
    "\n",
    "%matplotlib inline\n",
    "import os\n",
    "import sys\n",
    "\n",
    "sys.path.append(\"../../\")\n",
    "\n",
    "from sapsan.lib.backends import MLflowBackend, FakeBackend\n",
    "from sapsan.lib.data import HDF5Dataset, EquidistantSampling, flatten\n",
    "from sapsan.lib.estimator.picae.picae_estimator import PICAE, PICAEConfig\n",
    "from sapsan.lib import Train, Evaluate"
   ]
  },
  {
   "cell_type": "code",
   "execution_count": null,
   "metadata": {
    "pycharm": {
     "is_executing": false,
     "name": "#%%\n"
    }
   },
   "outputs": [],
   "source": [
    "# --- Experiment tracking backend ---\n",
    "# MLflow - the server will be launched automatically\n",
    "# in case it won't, type in cmd: mlflow ui --port=5000\n",
    "# to use it, set mlflow = True\n",
    "\n",
    "mlflow = False\n",
    "experiment_name  = \"PICAE experiment\"\n",
    "\n",
    "if mlflow: \n",
    "    tracking_backend = MLflowBackend(experiment_name, host=\"localhost\", port=5000)\n",
    "else: tracking_backend = FakeBackend()"
   ]
  },
  {
   "cell_type": "code",
   "execution_count": null,
   "metadata": {
    "pycharm": {
     "is_executing": false,
     "name": "#%%\n"
    }
   },
   "outputs": [],
   "source": [
    "# --- Data setup ---\n",
    "# In the intereset of loading and training multiple timesteps\n",
    "# one can specify which checkpoints to use and where\n",
    "# they appear in the path via syntax: {checkpoint:format}\n",
    "# \n",
    "# Next, you need to specify which features to load; let's assume \n",
    "#         path = \"{feature}.h5\"\n",
    "# \n",
    "#  1. If in different files, then specify features directly;\n",
    "#     The default HDF5 label will be the last label in the file\n",
    "#     Ex: features = ['velocity', 'denisty', 'pressure']\n",
    "#  2. If in the same, then duplicate the name in features\n",
    "#     and specify which labels to pull\n",
    "#     Ex: features = [\"data\", \"data\", \"data\"]\n",
    "#         feature_labels = ['velocity', 'density', 'pressure']\n",
    "\n",
    "path = \"data/picae/t{checkpoint:1.0f}/picae_random_{feature}.h5\"\n",
    "\n",
    "features = ['u']\n",
    "target   = ['u']\n",
    "\n",
    "#Dimensionality of your data in format [D,H,W]\n",
    "INPUT_SIZE = [32,32,32]\n",
    "\n",
    "#Reduce dimensionality to the following in format [D,H,W]\n",
    "SAMPLE_TO = [16,16,16]\n",
    "\n",
    "#Sampler to use for reduction\n",
    "sampler = EquidistantSampling(SAMPLE_TO)"
   ]
  },
  {
   "cell_type": "code",
   "execution_count": null,
   "metadata": {},
   "outputs": [],
   "source": [
    "#Load the data\n",
    "data_loader = HDF5Dataset(path        = path,\n",
    "                          features    = features,\n",
    "                          target      = target,\n",
    "                          checkpoints = [0],\n",
    "                          input_size  = INPUT_SIZE,\n",
    "                          sampler     = sampler)\n",
    "\n",
    "x, y    = data_loader.load_numpy()\n",
    "loaders = data_loader.convert_to_torch([x,y])"
   ]
  },
  {
   "cell_type": "code",
   "execution_count": null,
   "metadata": {},
   "outputs": [],
   "source": [
    "estimator = PICAE(config  = PICAEConfig(nfilters    = 6, \n",
    "                                        kernel_size = (3,3,3), \n",
    "                                        enc_nlayers = 3,                        \n",
    "                                        dec_nlayers = 3, \n",
    "                                        n_epochs    = 5,\n",
    "                                        patience    = 10, \n",
    "                                        min_delta   = 1e-5),\n",
    "                  loaders = loaders)"
   ]
  },
  {
   "cell_type": "code",
   "execution_count": null,
   "metadata": {},
   "outputs": [],
   "source": [
    "# Set the experiment\n",
    "training_experiment = Train(model           = estimator,\n",
    "                            backend         = tracking_backend,                 \n",
    "                            data_parameters = data_loader)\n",
    "\n",
    "# Train the model\n",
    "estimator = training_experiment.run()"
   ]
  },
  {
   "cell_type": "code",
   "execution_count": null,
   "metadata": {
    "scrolled": false
   },
   "outputs": [],
   "source": [
    "# --- Test the model ---\n",
    "# Load the data\n",
    "data_loader = HDF5Dataset(path        = path,\n",
    "                          features    = features,\n",
    "                          target      = target,\n",
    "                          checkpoints = [0],\n",
    "                          input_size  = INPUT_SIZE,\n",
    "                          sampler     = sampler)\n",
    "\n",
    "x, y    = data_loader.load_numpy()\n",
    "loaders = data_loader.convert_to_torch([x,y])\n",
    "\n",
    "# Set the test experiment\n",
    "# loaders need to take in the same size data as the individual training batch\n",
    "estimator.loaders = loaders\n",
    "evaluation_experiment = Evaluate(model           = estimator,\n",
    "                                 backend         = tracking_backend,\n",
    "                                 data_parameters = data_loader)\n",
    "\n",
    "\n",
    "# Test the model\n",
    "# Evaluation returns a dict, results = {'predict':np.ndarray, 'target':np.ndarray}\n",
    "results = evaluation_experiment.run()"
   ]
  }
 ],
 "metadata": {
  "kernelspec": {
   "display_name": "Python 3.10.4 ('py310')",
   "language": "python",
   "name": "python3"
  },
  "language_info": {
   "codemirror_mode": {
    "name": "ipython",
    "version": 3
   },
   "file_extension": ".py",
   "mimetype": "text/x-python",
   "name": "python",
   "nbconvert_exporter": "python",
   "pygments_lexer": "ipython3",
   "version": "3.10.4"
  },
  "pycharm": {
   "stem_cell": {
    "cell_type": "raw",
    "metadata": {
     "collapsed": false
    },
    "source": []
   }
  },
  "vscode": {
   "interpreter": {
    "hash": "55761d48b13336894241222244b506485a2c10caa3a7f51cb6df6e994d5120a6"
   }
  }
 },
 "nbformat": 4,
 "nbformat_minor": 2
}
