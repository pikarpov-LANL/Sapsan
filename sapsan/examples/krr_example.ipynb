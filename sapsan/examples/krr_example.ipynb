{
 "cells": [
  {
   "cell_type": "code",
   "execution_count": null,
   "metadata": {
    "scrolled": false
   },
   "outputs": [],
   "source": [
    "\"\"\"\n",
    "An example of Kernel-Ridge Regression (CNN) using scikit-learn.\n",
    "\n",
    "-pikarpov\n",
    "\"\"\"\n",
    "\n",
    "%matplotlib inline\n",
    "import os\n",
    "import sys\n",
    "import numpy as np\n",
    "\n",
    "sys.path.append(\"../../\")\n",
    "\n",
    "from sapsan.lib.backends import MLflowBackend, FakeBackend\n",
    "from sapsan.lib.data import HDF5Dataset, EquidistantSampling, flatten\n",
    "from sapsan.lib.estimator.krr.krr_estimator import KRR, KRRConfig\n",
    "from sapsan.lib import Train, Evaluate"
   ]
  },
  {
   "cell_type": "code",
   "execution_count": null,
   "metadata": {
    "pycharm": {
     "is_executing": false,
     "name": "#%%\n"
    }
   },
   "outputs": [],
   "source": [
    "# --- Experiment tracking backend ---\n",
    "# MLflow - the server will be launched automatically\n",
    "# in case it won't, type in cmd: mlflow ui --port=5000\n",
    "# to use it, set mlflow = True\n",
    "\n",
    "mlflow = False\n",
    "experiment_name  = \"KRR experiment\"\n",
    "\n",
    "if mlflow: \n",
    "    tracking_backend = MLflowBackend(experiment_name, host=\"localhost\", port=5000)\n",
    "else: tracking_backend = FakeBackend()"
   ]
  },
  {
   "cell_type": "code",
   "execution_count": null,
   "metadata": {
    "pycharm": {
     "is_executing": false,
     "name": "#%%\n"
    }
   },
   "outputs": [],
   "source": [
    "# --- Data setup ---\n",
    "# In the intereset of loading and training multiple timesteps\n",
    "# one can specify which checkpoints to use and where\n",
    "# they appear in the path via syntax: {checkpoint:format}\n",
    "# \n",
    "# Next, you need to specify which features to load; let's assume \n",
    "#         path = \"{feature}.h5\"\n",
    "# \n",
    "#  1. If in different files, then specify features directly;\n",
    "#     The default HDF5 label will be the last label in the file\n",
    "#     Ex: features = ['velocity', 'denisty', 'pressure']\n",
    "#  2. If in the same, then duplicate the name in features\n",
    "#     and specify which labels to pull\n",
    "#     Ex: features = [\"data\", \"data\", \"data\"]\n",
    "#         feature_labels = ['velocity', 'density', 'pressure']\n",
    "\n",
    "path = 'data/cnn_krr/t{checkpoint:1.0f}/{feature}_dim128_2d.h5'\n",
    "\n",
    "features = ['u']\n",
    "target   = ['u']\n",
    "\n",
    "\n",
    "# Dimensionality of your data in format [D,H,W]\n",
    "INPUT_SIZE = [128,128]\n",
    "\n",
    "# Reduce dimensionality to the following in format [D,H,W]\n",
    "SAMPLE_TO = [64,64]\n",
    "\n",
    "# Sampler to use for reduction\n",
    "sampler = EquidistantSampling(SAMPLE_TO)"
   ]
  },
  {
   "cell_type": "code",
   "execution_count": null,
   "metadata": {},
   "outputs": [],
   "source": [
    "# Load the data\n",
    "data_loader = HDF5Dataset(path        = path,\n",
    "                          features    = features,\n",
    "                          target      = target,\n",
    "                          checkpoints = [0],\n",
    "                          input_size  = INPUT_SIZE,\n",
    "                          sampler     = sampler, \n",
    "                          flat        =  True)\n",
    "\n",
    "x, y = data_loader.load_numpy()\n",
    "\n",
    "# ex: predict one component of the target\n",
    "y = np.array([y[0]])\n",
    "\n",
    "loaders = [x,y]"
   ]
  },
  {
   "cell_type": "code",
   "execution_count": null,
   "metadata": {},
   "outputs": [],
   "source": [
    "# Machine Learning model to use\n",
    "\n",
    "# Configuration of the model parameters:\n",
    "#    alpha - rbf kernel hyperparameter\n",
    "#    gamma - rbf kernel hyperparameter\n",
    "estimator = KRR(config  = KRRConfig(gamma  = 1.778, \n",
    "                                    alpha  = 0.001, \n",
    "                                    kernel = 'rbf'),\n",
    "                loaders = loaders)"
   ]
  },
  {
   "cell_type": "code",
   "execution_count": null,
   "metadata": {},
   "outputs": [],
   "source": [
    "# --- Train the model ---\n",
    "# Set the experiment\n",
    "training_experiment = Train(model           = estimator,\n",
    "                            backend         = tracking_backend,                       \n",
    "                            data_parameters = data_loader)\n",
    "# Train the model\n",
    "estimator = training_experiment.run()"
   ]
  },
  {
   "cell_type": "code",
   "execution_count": null,
   "metadata": {
    "scrolled": false
   },
   "outputs": [],
   "source": [
    "# --- Test the model ---\n",
    "# Load the test data\n",
    "data_loader = HDF5Dataset(path        = path,\n",
    "                          features    = features,\n",
    "                          target      = target,\n",
    "                          checkpoints = [0],\n",
    "                          input_size  = INPUT_SIZE,\n",
    "                          sampler     = sampler, \n",
    "                          flat        = True)\n",
    "\n",
    "x, y = data_loader.load_numpy()\n",
    "\n",
    "# ex: predict one component of the target\n",
    "y       = np.array([y[0]])\n",
    "loaders = [x,y]\n",
    "\n",
    "# Set the test experiment\n",
    "estimator.loaders = loaders\n",
    "evaluation_experiment = Evaluate(model           = estimator,\n",
    "                                 backend         = tracking_backend,\n",
    "                                 data_parameters = data_loader)\n",
    "\n",
    "# Test the model\n",
    "# Evaluation returns a dict, results = {'predict':np.ndarray, 'target':np.ndarray}\n",
    "results = evaluation_experiment.run()"
   ]
  }
 ],
 "metadata": {
  "kernelspec": {
   "display_name": "Python 3.10.4 ('py310')",
   "language": "python",
   "name": "python3"
  },
  "language_info": {
   "codemirror_mode": {
    "name": "ipython",
    "version": 3
   },
   "file_extension": ".py",
   "mimetype": "text/x-python",
   "name": "python",
   "nbconvert_exporter": "python",
   "pygments_lexer": "ipython3",
   "version": "3.10.4"
  },
  "pycharm": {
   "stem_cell": {
    "cell_type": "raw",
    "metadata": {
     "collapsed": false
    },
    "source": []
   }
  },
  "vscode": {
   "interpreter": {
    "hash": "55761d48b13336894241222244b506485a2c10caa3a7f51cb6df6e994d5120a6"
   }
  }
 },
 "nbformat": 4,
 "nbformat_minor": 2
}
